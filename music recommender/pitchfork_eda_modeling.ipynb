{
 "cells": [
  {
   "cell_type": "code",
   "execution_count": 194,
   "metadata": {},
   "outputs": [],
   "source": [
    "import pandas as pd\n",
    "import datetime\n",
    "import nltk\n",
    "import numpy as np\n",
    "import matplotlib.pyplot as plt \n",
    "import seaborn as sns\n",
    "import datetime\n",
    "from matplotlib.gridspec import GridSpec\n",
    "\n",
    "%matplotlib inline"
   ]
  },
  {
   "cell_type": "markdown",
   "metadata": {},
   "source": [
    "### Reading In Data Using SQLite"
   ]
  },
  {
   "cell_type": "code",
   "execution_count": 24,
   "metadata": {},
   "outputs": [],
   "source": [
    "import sqlite3\n",
    "conn = sqlite3.connect('database.sqlite')"
   ]
  },
  {
   "cell_type": "code",
   "execution_count": 25,
   "metadata": {},
   "outputs": [],
   "source": [
    "artist = pd.read_sql_query('select * from artists', conn)\n",
    "content = pd.read_sql_query('select * from content', conn)\n",
    "genres = pd.read_sql_query('select * from genres', conn)\n",
    "reviews = pd.read_sql_query('select * from reviews', conn)\n",
    "years = pd.read_sql_query('select * from years', conn)\n",
    "labels = pd.read_sql_query('select * from labels', conn)"
   ]
  },
  {
   "cell_type": "code",
   "execution_count": 26,
   "metadata": {},
   "outputs": [],
   "source": [
    "pitchfork_df = pd.merge(content,reviews, on='reviewid')\n",
    "pitchfork_df = pd.merge(pitchfork_df, years, on='reviewid')\n",
    "pitchfork_df = pd.merge(pitchfork_df, genres, on='reviewid')"
   ]
  },
  {
   "cell_type": "code",
   "execution_count": 27,
   "metadata": {},
   "outputs": [],
   "source": [
    "pitchfork_df.drop(['author_type'],inplace=True,axis=1)"
   ]
  },
  {
   "cell_type": "code",
   "execution_count": 28,
   "metadata": {},
   "outputs": [],
   "source": [
    "p4k = pitchfork_df.drop(pitchfork_df[pitchfork_df.content == ''].index)"
   ]
  },
  {
   "cell_type": "code",
   "execution_count": 29,
   "metadata": {},
   "outputs": [],
   "source": [
    "p4k = p4k.reset_index().drop('index',axis=1)"
   ]
  },
  {
   "cell_type": "code",
   "execution_count": 90,
   "metadata": {},
   "outputs": [
    {
     "data": {
      "text/plain": [
       "23619"
      ]
     },
     "execution_count": 90,
     "metadata": {},
     "output_type": "execute_result"
    }
   ],
   "source": [
    "len(p4k)"
   ]
  },
  {
   "cell_type": "code",
   "execution_count": 92,
   "metadata": {},
   "outputs": [],
   "source": [
    "p4k = p4k.drop_duplicates('reviewid')"
   ]
  },
  {
   "cell_type": "code",
   "execution_count": 93,
   "metadata": {},
   "outputs": [
    {
     "data": {
      "text/plain": [
       "18379"
      ]
     },
     "execution_count": 93,
     "metadata": {},
     "output_type": "execute_result"
    }
   ],
   "source": [
    "len(p4k)"
   ]
  },
  {
   "cell_type": "code",
   "execution_count": 100,
   "metadata": {},
   "outputs": [],
   "source": [
    "p4k = p4k.reset_index()"
   ]
  },
  {
   "cell_type": "code",
   "execution_count": 102,
   "metadata": {},
   "outputs": [],
   "source": [
    "p4k = p4k.drop('index', axis=1)"
   ]
  },
  {
   "cell_type": "markdown",
   "metadata": {},
   "source": [
    "### Exploratory Data Analysis"
   ]
  },
  {
   "cell_type": "code",
   "execution_count": 30,
   "metadata": {},
   "outputs": [
    {
     "data": {
      "text/plain": [
       "[Text(0,0.5,'Frequency'),\n",
       " Text(0.5,0,'Word Count'),\n",
       " Text(0.5,1,'Distribution of Review Length on Pitchfork')]"
      ]
     },
     "execution_count": 30,
     "metadata": {},
     "output_type": "execute_result"
    },
    {
     "data": {
      "image/png": "[encoded data removed]",
      "text/plain": [
       "<Figure size 432x288 with 1 Axes>"
      ]
     },
     "metadata": {},
     "output_type": "display_data"
    }
   ],
   "source": [
    "review_length = p4k.content.str.len()\n",
    "sns.set()\n",
    "ax = review_length.hist(bins=50)\n",
    "ax.set(xlabel='Word Count', ylabel='Frequency',\n",
    "      title='Distribution of Review Length on Pitchfork')"
   ]
  },
  {
   "cell_type": "code",
   "execution_count": null,
   "metadata": {},
   "outputs": [],
   "source": []
  },
  {
   "cell_type": "code",
   "execution_count": 465,
   "metadata": {},
   "outputs": [
    {
     "data": {
      "text/plain": [
       "96556405"
      ]
     },
     "execution_count": 465,
     "metadata": {},
     "output_type": "execute_result"
    }
   ],
   "source": [
    "np.sum(list(review_length))"
   ]
  },
  {
   "cell_type": "markdown",
   "metadata": {},
   "source": [
    "### Taking a Sample of the Data In Order to Conduct Preliminary Modeling"
   ]
  },
  {
   "cell_type": "code",
   "execution_count": 32,
   "metadata": {},
   "outputs": [],
   "source": [
    "from sklearn.model_selection import train_test_split"
   ]
  },
  {
   "cell_type": "code",
   "execution_count": 33,
   "metadata": {},
   "outputs": [],
   "source": [
    "restof_df, sample_df = train_test_split(p4k, test_size=0.20, \n",
    "                                        random_state=666)"
   ]
  },
  {
   "cell_type": "code",
   "execution_count": 34,
   "metadata": {},
   "outputs": [],
   "source": [
    "sample_df = sample_df.reset_index()\n",
    "sample_df.drop(['index'],axis=1,inplace=True)"
   ]
  },
  {
   "cell_type": "markdown",
   "metadata": {},
   "source": [
    "### NLP Modeling"
   ]
  },
  {
   "cell_type": "code",
   "execution_count": 98,
   "metadata": {},
   "outputs": [],
   "source": [
    "from nltk.tokenize import word_tokenize\n",
    "from sklearn.feature_extraction.text import TfidfVectorizer, CountVectorizer\n",
    "import string\n",
    "from nltk.corpus import stopwords\n",
    "from nltk.stem import SnowballStemmer, WordNetLemmatizer\n",
    "from sklearn.decomposition import NMF\n",
    "\n",
    "#Tokenizer function \n",
    "def custom_tokenizer(text):\n",
    "    \n",
    "    remove_punct = str.maketrans('', '', string.punctuation)\n",
    "    text = text.translate(remove_punct).replace('\" \"','').replace('“','').replace(\"''\",'').replace(\"’\",'').replace('“ ”','').replace('” ','')\n",
    "    \n",
    "    remove_digits = str.maketrans('', '', string.digits)\n",
    "    text = text.lower().translate(remove_digits)\n",
    "    \n",
    "    tokens = word_tokenize(text)\n",
    "    \n",
    "    stop_words = stopwords.words('english')\n",
    "    tokens_stop = [y for y in tokens if y not in stop_words]\n",
    "    \n",
    "    lemmatizer = WordNetLemmatizer()\n",
    "    tokens_lemma = [lemmatizer.lemmatize(y) for y in tokens_stop]\n",
    "    \n",
    "    # Custom stop words chosen based on results\n",
    "    custom_stop_words = ['there', 'theyre', 'theyve', 'good', 'lot', 'kind', 'bit', 'that',\n",
    "                         'enough', 'theyv', 'pretty', 'sound', 'like',\n",
    "                        'feel', 'like', 'collabor', 'project', 'moment', 'solo', 'producer',\n",
    "                         'made', 'decade', 'might', 'hard', 'rather', 'collaboration', \n",
    "                         'trying', 'energy', 'sings', 'vision', 'clear', 'within', 'career',\n",
    "                         'cut', 'idea', 'star', 'since', 'towards', 'mean', 'duo', 'across',\n",
    "                        'im', 'think', 'youre', 'guy', 'really', 'people', 'going', \n",
    "                         'got', 'ive', 'want', 'maybe', \n",
    "                        'name', 'working', 'form', 'someone', 'felt', \n",
    "                         'personal', 'interview', 'suggests', 'future', 'become', \n",
    "                         'u', 'day', 'least', 'cant', 'probably',\n",
    "                         'ever', 'man', 'kid', 'right', 'sort', 'need',\n",
    "                        'recording', 'early', 'recorded', 'tape', 'released', 'four', 'three', 'five',\n",
    "                        'sometimes', 'ep', 'fulllength', 'last', 'year','lp', \n",
    "                        'nothing','actually','stuff','better', 'anything', 'let', \n",
    "                        'isnt','bad','hear','great','sure', 'didnt', 'play', 'start', 'whole', 'everything',\n",
    "                        'word', 'see', 'place', 'put', 'look', 'tell', 'mind', 'said', 'away',\n",
    "                        'far', 'may', 'keep',  'set', 'collection', 'making', 'simple', 'free', 'instead', 'move',\n",
    "                        'artist', 'label', 'style', 'musical', 'whose', 'art', 'genre', \n",
    "                         'recent', 'musician', 'scene', 'act',  'free', 'instead', 'move', \n",
    "                         'version', 'original', 'disc', 'material', 'single', 'mix', 'different', 'classic', 'later', \n",
    "                        'john', 'turn', 'fact','seem', 'easy' ,'quite', 'course', \n",
    "                        'face', 'perhaps', 'hand', 'next', 'half', 'give', 'group', 'member', 'however', 'listener', 'guitarist', \n",
    "                         'former', 'side', 'drummer', 'studio', 'singer', 'number',\n",
    "                        'big', 'hit', 'fan', 'past', 'old' ] \n",
    "\n",
    "    tokens_final = [y for y in tokens_lemma if y not in custom_stop_words]\n",
    "    \n",
    "    return tokens_final"
   ]
  },
  {
   "cell_type": "code",
   "execution_count": 273,
   "metadata": {},
   "outputs": [],
   "source": [
    "def topics(model, feature_names, n_top_words):\n",
    "    for topic_id, topic in enumerate(model.components_):\n",
    "        message = \"Topic #%d: \" % topic_id\n",
    "        message += \" \".join([feature_names[i] \\\n",
    "                             for i in topic.argsort()[:-n_top_words - 1:-1]])\n",
    "        print(message)"
   ]
  },
  {
   "cell_type": "code",
   "execution_count": 95,
   "metadata": {},
   "outputs": [],
   "source": [
    "def tfidf_nmf(data, n_components, min_df, max_df):\n",
    "# A function that takes in a dataframe, performs TFIDF vectorization and returns topic models using \n",
    "# Non-Negative Matrix Factorization\n",
    "\n",
    "    tfidf = TfidfVectorizer(tokenizer=custom_tokenizer,\n",
    "                            ngram_range=(1,2), \n",
    "                            min_df=min_df, max_df=max_df)\n",
    "    \n",
    "    tfidf.fit(data)\n",
    "    c = tfidf.transform(data)\n",
    "    nmf = NMF(n_components=n_components)\n",
    "    nmf_vecs = nmf.fit_transform(c)\n",
    "    \n",
    "    topic_lists = topics(nmf, tfidf.get_feature_names(), 11)\n",
    "    \n",
    "    print(topic_lists)\n",
    "   \n",
    "    return topic_lists, nmf, nmf_vecs"
   ]
  },
  {
   "cell_type": "code",
   "execution_count": 96,
   "metadata": {},
   "outputs": [],
   "source": [
    "sample_topic_lists, sample_nmf, sample_nmf_vecs = tfidf_nmf(sample_df.content, 15, 0.08, 0.28)"
   ]
  },
  {
   "cell_type": "code",
   "execution_count": 103,
   "metadata": {},
   "outputs": [
    {
     "name": "stdout",
     "output_type": "stream",
     "text": [
      "Topic #0: indie chorus hook production riff verse lead songwriting opener lack tune\n",
      "Topic #1: rap hiphop verse production sample guest shit dj game street underground\n",
      "Topic #2: metal death riff heavy vocalist bass noise slow lead section power\n",
      "Topic #3: piece noise electronic drone ambient tone space loop bass sonic texture\n",
      "Topic #4: dance house dj club synth bass groove sample party electronic synths\n",
      "Topic #5: live show performance audience cover stage playing played already radio experience\n",
      "Topic #6: black white dark key power cover fire heart light eye history\n",
      "Topic #7: jazz soul funk hiphop horn rhythm groove bass compilation section tune\n",
      "Topic #8: punk riff wave noise fun dead history played power hell underground\n",
      "Topic #9: city york new york country street night home wave american underground sonic\n",
      "Topic #10: shes woman singing girl power ballad heart character chorus emotional feeling\n",
      "Topic #11: life story death friend night home dream feeling light character god\n",
      "Topic #12: blue white country cover american folk brother playing note riff dead\n",
      "Topic #13: acoustic piano folk string acoustic guitar arrangement instrument electric country organ harmony\n",
      "Topic #14: girl young boy white cover la brother fun na woman party\n",
      "Topic #14: girl young boy white cover la brother fun na woman party\n"
     ]
    }
   ],
   "source": [
    "topic_lists, nmf, nmf_vecs = tfidf_nmf(p4k.content,15, 0.08, 0.28)"
   ]
  },
  {
   "cell_type": "markdown",
   "metadata": {},
   "source": [
    "### Adding Topic Names to the DataFrame for Improved Legibility"
   ]
  },
  {
   "cell_type": "code",
   "execution_count": 384,
   "metadata": {},
   "outputs": [],
   "source": [
    "topic_names = ['indie/contemporary', 'rap/hiphop', 'metal/heavy guitar', 'experimental electronic',\n",
    "\t\t\t\t'dance/house/synth', 'live/tour', 'dark/soulful', 'jazz/funk', \n",
    "\t\t\t\t'rock/punk', 'urban/trendy', 'female artist/gender', 'spiritual/emotional/philosophical',\n",
    "\t\t\t\t'folk/country', 'instrumentation', 'love/lust']"
   ]
  },
  {
   "cell_type": "code",
   "execution_count": 243,
   "metadata": {},
   "outputs": [
    {
     "data": {
      "text/plain": [
       "(18379, 15)"
      ]
     },
     "execution_count": 243,
     "metadata": {},
     "output_type": "execute_result"
    }
   ],
   "source": [
    "nmf_vecs.shape"
   ]
  },
  {
   "cell_type": "code",
   "execution_count": 1,
   "metadata": {},
   "outputs": [],
   "source": [
    "def topic_column(df, nmfvecs):\n",
    "#Function to add a column with topic names to the dataframe\n",
    "    topics = []\n",
    "    for i in range(len(df)):\n",
    "        index = np.argmax(nmf_vecs[i])\n",
    "        topics.append(topic_names[index])\n",
    "    return pd.Series(topics)"
   ]
  },
  {
   "cell_type": "code",
   "execution_count": 359,
   "metadata": {},
   "outputs": [],
   "source": [
    "p4k['topic'] = topic_column(p4k, nmf_vecs)"
   ]
  },
  {
   "cell_type": "markdown",
   "metadata": {},
   "source": [
    "### Adding Subtopics"
   ]
  },
  {
   "cell_type": "code",
   "execution_count": 2,
   "metadata": {},
   "outputs": [],
   "source": [
    "def subtopics(topics):\n",
    "# Create subtopics for each topic in order to further engage with the data \n",
    "    subtopic_vecs = []\n",
    "    for topic in topics:\n",
    "        df = p4k[p4k.topic == topic].content\n",
    "        print(topic)\n",
    "        topic_lists, sub_nmf, sub_nmf_vecs = tfidf_nmf(df, 3, 0.10, 0.35)\n",
    "        subtopic_vecs.append(sub_nmf_vecs)\n",
    "    return subtopic_vecs"
   ]
  },
  {
   "cell_type": "code",
   "execution_count": 363,
   "metadata": {},
   "outputs": [
    {
     "name": "stdout",
     "output_type": "stream",
     "text": [
      "indie/contemporary\n",
      "Topic #0: drum minute le riff part many rhythm every end hook without\n",
      "Topic #1: love heart cover know synths emotional world hook songwriting fire radio\n",
      "Topic #2: he tune seems around know always often world say beat behind\n",
      "None\n",
      "rap/hiphop\n",
      "Topic #0: mixtape life young guest hook street rapping world money shit always\n",
      "Topic #1: wayne lil b mixtape mixtapes rapping dj love series money bitch\n",
      "Topic #2: vocal sample rock drum guitar mc underground band bass lyric dj\n",
      "None\n",
      "metal/heavy guitar\n",
      "Topic #0: bass voice part doom noise little around beat he line go\n",
      "Topic #1: black metal he room dark blast light doom split point wave influence\n",
      "Topic #2: hardcore death metal punk thrash vocalist influence live many blood know lead\n",
      "None\n",
      "experimental electronic\n",
      "Topic #0: rock part voice end space note instrument bass world sonic seems\n",
      "Topic #1: film soundtrack piano composer string theme composition ambient series feature instrumental\n",
      "Topic #2: pop beat ambient techno synth electronic music sample love machine synths he\n",
      "None\n",
      "dance/house/synth\n",
      "Topic #0: techno he club sample release sense minute rhythm synth electronic melody\n",
      "Topic #1: band guitar rock indie lyric debut love every voice always chorus\n",
      "Topic #2: disco remix remixes love compilation rock party groove guitar electro le\n",
      "None\n",
      "live/tour\n",
      "Topic #0: drum beat melody he line lyric rhythm bass often sense voice\n",
      "Topic #1: cover demo radio session reissue compilation box included note second voice\n",
      "Topic #2: audience concert crowd live album dvd stage document video tour cd point\n",
      "None\n",
      "dark/soulful\n",
      "Topic #0: minute drum piece noise bass melody drone metal percussion second end\n",
      "Topic #1: love pop cover white life soul world know without many heart\n",
      "Topic #2: he beat hiphop production line hell sample point root thought getting\n",
      "None\n",
      "jazz/funk\n",
      "Topic #0: love hiphop he pop voice sample break dont lyric know production\n",
      "Topic #1: compilation country brown horn series funky american disco groove brother popular\n",
      "Topic #2: piece playing trio piano mile minute player tune horn composition instrument\n",
      "None\n",
      "rock/punk\n",
      "Topic #0: love he world know cover indie say compilation always fun punk rock\n",
      "Topic #1: drum riff melody bass rhythm noise debut beat often chorus hook\n",
      "Topic #2: hardcore black death dead release noise underground life fuck final eye\n",
      "None\n",
      "urban/trendy\n",
      "Topic #0: minute drum bass sonic noise long le melody point every release\n",
      "Topic #1: love country lyric night know cover heart always american world title\n",
      "Topic #2: he beat doesnt production part verse black almost seems release hook\n",
      "None\n",
      "female artist/gender\n",
      "Topic #0: melody often sense piano yet part string singing drum almost note\n",
      "Topic #1: woman rock cover live girl young many life always black boy\n",
      "Topic #2: beat girl world rb dance party production talk show na say\n",
      "None\n",
      "spiritual/emotional/philosophical\n",
      "Topic #0: story friend seems almost long release without minute often night feeling\n",
      "Topic #1: film soundtrack character theme piece dream story feature string night mood\n",
      "Topic #2: death melody dead black drum light god yet heart chorus title track\n",
      "None\n",
      "folk/country\n",
      "Topic #0: pop melody minute debut sense title end he beat drum part\n",
      "Topic #1: white dead brother release drum black riff key yet toward hold\n",
      "Topic #2: cover country folk american brother performance session he yet live show\n",
      "None\n",
      "instrumentation\n",
      "Topic #0: instrument piece minute he around part percussion le end another almost\n",
      "Topic #1: love dont heart know cover debut he say go ballad find\n",
      "Topic #2: rock country american cover indie electric ballad doesnt dont yet know\n",
      "None\n",
      "love/lust\n",
      "Topic #0: he world melody beat many end le title part release every\n",
      "Topic #1: white black soul he story life heart country simply real light\n",
      "Topic #2: la cover american indie heart high le na already dream playing\n",
      "None\n"
     ]
    }
   ],
   "source": [
    "subtopic_vecs = subtopics(topic_names)"
   ]
  },
  {
   "cell_type": "code",
   "execution_count": 373,
   "metadata": {},
   "outputs": [],
   "source": [
    "subtopic_names = [ \n",
    "\t\t\t['hook', 'love', 'beat/tune'],\n",
    "\t\t\t['guest verse/hook', 'love/money', 'sampling/underground'],\n",
    "\t\t\t['bass', 'black metal', 'hardcore'],\n",
    "\t\t\t['sonic space', 'soundtrack/ambient', 'techno/synth/emotional'],\n",
    "\t\t\t['techno', 'indie', 'disco'],\n",
    "\t\t\t['rhythm/percussion', 'cover/reissue/compilation', 'concert'],\n",
    "\t\t\t['melodic', 'love', 'hiphop'], \n",
    "\t\t\t['hiphop', 'disco', 'jazz'],\n",
    "\t\t\t['indie','rhythm/percussion','hardcore'],\n",
    "\t\t\t['singer/songwriter', 'rock','r&b'],\n",
    "\t\t\t['melodic', 'love', 'hook'],\n",
    "            ['emotional', 'dreamy','dark'],\n",
    "\t\t\t['folk', 'blues', 'country'], \n",
    "\t\t\t['instrumental', 'love', 'indie'],\n",
    "\t\t\t['melodic', 'soulful', 'indie']\n",
    "]"
   ]
  },
  {
   "cell_type": "code",
   "execution_count": 377,
   "metadata": {},
   "outputs": [
    {
     "data": {
      "text/plain": [
       "(1213, 3)"
      ]
     },
     "execution_count": 377,
     "metadata": {},
     "output_type": "execute_result"
    }
   ],
   "source": [
    "subtopic_vecs[1].shape"
   ]
  },
  {
   "cell_type": "code",
   "execution_count": 393,
   "metadata": {},
   "outputs": [
    {
     "name": "stdout",
     "output_type": "stream",
     "text": [
      "(796, 3)\n"
     ]
    }
   ],
   "source": [
    "topic = p4k.iloc[405].topic\n",
    "key = topic_names.index(topic)\n",
    "vec = subtopic_vecs[key]\n",
    "print(vec.shape)"
   ]
  },
  {
   "cell_type": "code",
   "execution_count": 3,
   "metadata": {},
   "outputs": [],
   "source": [
    "def subtopic_column(df, vecs_list):\n",
    "# Adding a subtopic column for each entry in the dataframe\n",
    "    subtopics = []\n",
    "    for i in range(len(df)):\n",
    "        topic = df.iloc[i].topic\n",
    "        reviewid = df.iloc[i].reviewid\n",
    "        working_df = p4k[p4k.topic == topic].reset_index()\n",
    "        \n",
    "        topic_index = working_df.index[working_df.reviewid == reviewid][0]\n",
    "        \n",
    "        key = topic_names.index(topic)\n",
    "        \n",
    "        vecs = (subtopic_vecs[key])\n",
    "        vec_value = np.argmax(vecs[topic_index])\n",
    "        \n",
    "        subtopic = subtopic_names[key][vec_value]\n",
    "            \n",
    "        subtopics.append(subtopic)\n",
    "    \n",
    "    return pd.Series(subtopics)"
   ]
  },
  {
   "cell_type": "code",
   "execution_count": 453,
   "metadata": {},
   "outputs": [],
   "source": [
    "subtopic = subtopic_column(p4k, subtopic_vecs)"
   ]
  },
  {
   "cell_type": "code",
   "execution_count": 455,
   "metadata": {},
   "outputs": [],
   "source": [
    "p4k['subtopic'] = subtopic"
   ]
  },
  {
   "cell_type": "markdown",
   "metadata": {},
   "source": [
    "### Using the Topics/Subtopics to explore the data"
   ]
  },
  {
   "cell_type": "code",
   "execution_count": 285,
   "metadata": {},
   "outputs": [],
   "source": [
    "topic_review_score = p4k.groupby(['topic'])['score'].mean().sort_values(ascending=False)"
   ]
  },
  {
   "cell_type": "code",
   "execution_count": 286,
   "metadata": {},
   "outputs": [
    {
     "data": {
      "text/plain": [
       "topic\n",
       "jazz/funk                            7.412627\n",
       "experimental electronic              7.253882\n",
       "metal/heavy guitar                   7.159722\n",
       "dance/house/synth                    7.076905\n",
       "acoustic                             7.058639\n",
       "dark/soulful                         7.050000\n",
       "live/tour                            7.044108\n",
       "female artist/gender                 7.040788\n",
       "spiritual/emotional/philosophical    7.035090\n",
       "indie rock/punk                      7.028894\n",
       "folk/country                         6.968488\n",
       "urban/trendy                         6.933565\n",
       "rap/hiphop                           6.806595\n",
       "love/lust                            6.769561\n",
       "pop/contemporary                     6.657468\n",
       "Name: score, dtype: float64"
      ]
     },
     "execution_count": 286,
     "metadata": {},
     "output_type": "execute_result"
    }
   ],
   "source": [
    "topic_review_score"
   ]
  },
  {
   "cell_type": "code",
   "execution_count": 268,
   "metadata": {},
   "outputs": [
    {
     "data": {
      "text/plain": [
       "spiritual/emotional/philosophical    2599\n",
       "pop/contemporary                     2109\n",
       "experimental electronic              1919\n",
       "acoustic                             1690\n",
       "dance/house/synth                    1299\n",
       "rap/hiphop                           1213\n",
       "love/lust                            1117\n",
       "folk/country                         1025\n",
       "live/tour                             959\n",
       "jazz/funk                             887\n",
       "female artist/gender                  863\n",
       "indie rock/punk                       796\n",
       "metal/heavy guitar                    792\n",
       "urban/trendy                          575\n",
       "dark/soulful                          536\n",
       "Name: topic, dtype: int64"
      ]
     },
     "execution_count": 268,
     "metadata": {},
     "output_type": "execute_result"
    }
   ],
   "source": [
    "p4k.topic.value_counts()"
   ]
  },
  {
   "cell_type": "code",
   "execution_count": 4,
   "metadata": {},
   "outputs": [
    {
     "ename": "NameError",
     "evalue": "name 'p4k' is not defined",
     "output_type": "error",
     "traceback": [
      "\u001b[0;31m---------------------------------------------------------------------------\u001b[0m",
      "\u001b[0;31mNameError\u001b[0m                                 Traceback (most recent call last)",
      "\u001b[0;32m<ipython-input-4-3a4fc6b01113>\u001b[0m in \u001b[0;36m<module>\u001b[0;34m()\u001b[0m\n\u001b[0;32m----> 1\u001b[0;31m \u001b[0mlabels\u001b[0m \u001b[0;34m=\u001b[0m \u001b[0mp4k\u001b[0m\u001b[0;34m.\u001b[0m\u001b[0mtopic\u001b[0m\u001b[0;34m.\u001b[0m\u001b[0mvalue_counts\u001b[0m\u001b[0;34m(\u001b[0m\u001b[0;34m)\u001b[0m\u001b[0;34m.\u001b[0m\u001b[0mindex\u001b[0m\u001b[0;34m\u001b[0m\u001b[0m\n\u001b[0m\u001b[1;32m      2\u001b[0m \u001b[0mcounts\u001b[0m \u001b[0;34m=\u001b[0m \u001b[0mp4k\u001b[0m\u001b[0;34m.\u001b[0m\u001b[0mtopic\u001b[0m\u001b[0;34m.\u001b[0m\u001b[0mvalue_counts\u001b[0m\u001b[0;34m(\u001b[0m\u001b[0;34m)\u001b[0m\u001b[0;34m.\u001b[0m\u001b[0mvalues\u001b[0m\u001b[0;34m\u001b[0m\u001b[0m\n\u001b[1;32m      3\u001b[0m \u001b[0mplt\u001b[0m\u001b[0;34m.\u001b[0m\u001b[0mfigure\u001b[0m\u001b[0;34m(\u001b[0m\u001b[0mfigsize\u001b[0m\u001b[0;34m=\u001b[0m\u001b[0;34m(\u001b[0m\u001b[0;36m30\u001b[0m\u001b[0;34m,\u001b[0m\u001b[0;36m15\u001b[0m\u001b[0;34m)\u001b[0m\u001b[0;34m)\u001b[0m\u001b[0;34m\u001b[0m\u001b[0m\n\u001b[1;32m      4\u001b[0m \u001b[0mthe_grid\u001b[0m \u001b[0;34m=\u001b[0m \u001b[0mGridSpec\u001b[0m\u001b[0;34m(\u001b[0m\u001b[0;36m2\u001b[0m\u001b[0;34m,\u001b[0m \u001b[0;36m2\u001b[0m\u001b[0;34m)\u001b[0m\u001b[0;34m\u001b[0m\u001b[0m\n\u001b[1;32m      5\u001b[0m \u001b[0mcmap\u001b[0m \u001b[0;34m=\u001b[0m \u001b[0mplt\u001b[0m\u001b[0;34m.\u001b[0m\u001b[0mget_cmap\u001b[0m\u001b[0;34m(\u001b[0m\u001b[0;34m'Spectral'\u001b[0m\u001b[0;34m)\u001b[0m\u001b[0;34m\u001b[0m\u001b[0m\n",
      "\u001b[0;31mNameError\u001b[0m: name 'p4k' is not defined"
     ]
    }
   ],
   "source": [
    "labels = p4k.topic.value_counts().index\n",
    "counts = p4k.topic.value_counts().values\n",
    "plt.figure(figsize=(30,15))\n",
    "the_grid = GridSpec(2, 2)\n",
    "cmap = plt.get_cmap('Spectral')\n",
    "colors = [cmap(i) for i in np.linspace(0, 1, 8)]\n",
    "plt.subplot(the_grid[0, 1], aspect=1, title='Topics in Pitchfork Reviews')\n",
    "source_pie = plt.pie(counts, labels=labels, autopct='%1.1f%%', shadow=True, colors=colors)\n",
    "plt.pie(counts, labels=labels, autopct='%1.1f%%', shadow=True, colors=colors)\n",
    "plt.show()"
   ]
  },
  {
   "cell_type": "code",
   "execution_count": null,
   "metadata": {},
   "outputs": [],
   "source": [
    "def top_artists_by_topic(topic):\n",
    "    d = df[df['topic'] == topic].sort_values('score',ascending=False)\n",
    "    a = [d.artist.unique()[:5]]\n",
    "    b = [d.title.unique()[:5]]\n",
    "    return list(zip(a,b))"
   ]
  },
  {
   "cell_type": "markdown",
   "metadata": {},
   "source": [
    "### Laying the Groundwork for the Music Recommender"
   ]
  },
  {
   "cell_type": "code",
   "execution_count": 5,
   "metadata": {},
   "outputs": [
    {
     "ename": "NameError",
     "evalue": "name 'p4k' is not defined",
     "output_type": "error",
     "traceback": [
      "\u001b[0;31m---------------------------------------------------------------------------\u001b[0m",
      "\u001b[0;31mNameError\u001b[0m                                 Traceback (most recent call last)",
      "\u001b[0;32m<ipython-input-5-d6250de9bd71>\u001b[0m in \u001b[0;36m<module>\u001b[0;34m()\u001b[0m\n\u001b[1;32m      1\u001b[0m \u001b[0;31m# Filter the pitchfork reviews on albums that they rate as better than average\u001b[0m\u001b[0;34m\u001b[0m\u001b[0;34m\u001b[0m\u001b[0m\n\u001b[0;32m----> 2\u001b[0;31m \u001b[0mgood_music\u001b[0m \u001b[0;34m=\u001b[0m \u001b[0mp4k\u001b[0m\u001b[0;34m[\u001b[0m\u001b[0mp4k\u001b[0m\u001b[0;34m[\u001b[0m\u001b[0;34m'score'\u001b[0m\u001b[0;34m]\u001b[0m \u001b[0;34m>\u001b[0m \u001b[0;34m(\u001b[0m\u001b[0mp4k\u001b[0m\u001b[0;34m[\u001b[0m\u001b[0;34m'score'\u001b[0m\u001b[0;34m]\u001b[0m\u001b[0;34m.\u001b[0m\u001b[0mmean\u001b[0m\u001b[0;34m(\u001b[0m\u001b[0;34m)\u001b[0m \u001b[0;34m+\u001b[0m \u001b[0;36m1\u001b[0m\u001b[0;34m)\u001b[0m\u001b[0;34m]\u001b[0m\u001b[0;34m\u001b[0m\u001b[0m\n\u001b[0m\u001b[1;32m      3\u001b[0m \u001b[0mprint\u001b[0m\u001b[0;34m(\u001b[0m\u001b[0mlen\u001b[0m\u001b[0;34m(\u001b[0m\u001b[0mgood_music\u001b[0m\u001b[0;34m)\u001b[0m \u001b[0;34m/\u001b[0m \u001b[0mlen\u001b[0m\u001b[0;34m(\u001b[0m\u001b[0mp4k\u001b[0m\u001b[0;34m)\u001b[0m \u001b[0;34m*\u001b[0m \u001b[0;36m100\u001b[0m\u001b[0;34m)\u001b[0m\u001b[0;34m\u001b[0m\u001b[0m\n",
      "\u001b[0;31mNameError\u001b[0m: name 'p4k' is not defined"
     ]
    }
   ],
   "source": [
    "# Filter the pitchfork reviews on albums that they rate as better than average\n",
    "good_music = p4k[p4k['score'] > (p4k['score'].mean() + 1)]\n",
    "print(len(good_music) / len(p4k) * 100)"
   ]
  },
  {
   "cell_type": "code",
   "execution_count": 6,
   "metadata": {},
   "outputs": [],
   "source": [
    "def rough_artist_recommender(artist, recs):\n",
    "#initial function to recommend music\n",
    "    d = p4k[p4k['artist']==artist]['topic']\n",
    "    topics = list(d[:].unique())\n",
    "    suggestions = pd.DataFrame(columns=p4k.columns)\n",
    "    wildcard_picks = []\n",
    "    for topic in topics:\n",
    "        good_suggestions = good_music[good_music['topic'] == topic]\n",
    "        good_suggestions = good_suggestions[good_suggestions['artist'] != artist]\n",
    "        wildcard_picks += (list(np.random.choice(good_suggestions.artist.unique(),size=50)))\n",
    "    recs = list(set(np.random.choice(wildcard_picks, size=recs)))\n",
    "\n",
    "        \n",
    "    return recs"
   ]
  },
  {
   "cell_type": "code",
   "execution_count": 460,
   "metadata": {},
   "outputs": [
    {
     "data": {
      "text/plain": [
       "['spring heel jack',\n",
       " 'prince, the revolution',\n",
       " 'the chemical brothers',\n",
       " 'orange juice',\n",
       " 'to live and shave in l.a.']"
      ]
     },
     "execution_count": 460,
     "metadata": {},
     "output_type": "execute_result"
    }
   ],
   "source": [
    "wonky_artist_recommender('joy division', 5)"
   ]
  },
  {
   "cell_type": "code",
   "execution_count": null,
   "metadata": {},
   "outputs": [],
   "source": [
    "mean_scores = df.groupby(['genre']).mean()['score']"
   ]
  },
  {
   "cell_type": "code",
   "execution_count": null,
   "metadata": {},
   "outputs": [],
   "source": [
    "mean_scores"
   ]
  },
  {
   "cell_type": "code",
   "execution_count": 196,
   "metadata": {},
   "outputs": [
    {
     "data": {
      "text/plain": [
       "[Text(0,0.5,'Frequency'),\n",
       " Text(0.5,0,'Score'),\n",
       " Text(0.5,1,'Distribution of Album Scores on Pitchfork')]"
      ]
     },
     "execution_count": 196,
     "metadata": {},
     "output_type": "execute_result"
    },
    {
     "data": {
      "image/png": "[encoded data removed]",
      "text/plain": [
       "<Figure size 432x288 with 1 Axes>"
      ]
     },
     "metadata": {},
     "output_type": "display_data"
    }
   ],
   "source": [
    "scores = p4k.score\n",
    "sns.set()\n",
    "ax = scores.hist(bins=25)\n",
    "ax.set(xlabel='Score', ylabel='Frequency',\n",
    "      title='Distribution of Album Scores on Pitchfork')"
   ]
  },
  {
   "cell_type": "code",
   "execution_count": 470,
   "metadata": {},
   "outputs": [
    {
     "data": {
      "text/plain": [
       "7.006110234506726"
      ]
     },
     "execution_count": 470,
     "metadata": {},
     "output_type": "execute_result"
    }
   ],
   "source": [
    "np.mean(p4k.score)"
   ]
  },
  {
   "cell_type": "markdown",
   "metadata": {},
   "source": [
    "### Sentiment Analysis"
   ]
  },
  {
   "cell_type": "code",
   "execution_count": 132,
   "metadata": {},
   "outputs": [],
   "source": [
    "from vaderSentiment.vaderSentiment import SentimentIntensityAnalyzer\n",
    "analyser = SentimentIntensityAnalyzer()"
   ]
  },
  {
   "cell_type": "code",
   "execution_count": null,
   "metadata": {},
   "outputs": [],
   "source": [
    "def print_sentiment_scores(sentence):\n",
    "    snt = analyser.polarity_scores(sentence)\n",
    "    print(snt)"
   ]
  },
  {
   "cell_type": "code",
   "execution_count": null,
   "metadata": {},
   "outputs": [],
   "source": [
    "d = df.content.iloc[7110]"
   ]
  },
  {
   "cell_type": "code",
   "execution_count": 130,
   "metadata": {},
   "outputs": [],
   "source": [
    "def sentiment_analysis(doc):\n",
    "    sentences = doc.split('.')\n",
    "    s = []\n",
    "    for sentence in sentences:\n",
    "        snt = analyser.polarity_scores(sentence)\n",
    "        compound_score = snt['compound']\n",
    "        s.append(compound_score)\n",
    "    sentiment = (sum(s) / len(s))\n",
    "    return sentiment           "
   ]
  },
  {
   "cell_type": "code",
   "execution_count": 458,
   "metadata": {},
   "outputs": [],
   "source": [
    "import pickle\n",
    "pickle.dump( p4k, open( \"pitchfork_data.p\", \"wb\" ) )\n",
    "\n"
   ]
  },
  {
   "cell_type": "code",
   "execution_count": 138,
   "metadata": {},
   "outputs": [],
   "source": [
    "sentiment = []\n",
    "for i in range(len(p4k)):\n",
    "    s = sentiment_analysis(p4k.content.iloc[i])\n",
    "    sentiment.append(s)"
   ]
  },
  {
   "cell_type": "code",
   "execution_count": 140,
   "metadata": {},
   "outputs": [],
   "source": [
    "p4k['sentiment'] = pd.Series(sentiment)"
   ]
  },
  {
   "cell_type": "markdown",
   "metadata": {},
   "source": [
    "plotting sentiment score against rating score, see if relationship looks strong visually:"
   ]
  },
  {
   "cell_type": "code",
   "execution_count": 364,
   "metadata": {},
   "outputs": [
    {
     "data": {
      "text/plain": [
       "<matplotlib.collections.PathCollection at 0x1a200cfc18>"
      ]
     },
     "execution_count": 364,
     "metadata": {},
     "output_type": "execute_result"
    },
    {
     "data": {
      "image/png": "[encoded data removed]",
      "text/plain": [
       "<Figure size 432x288 with 1 Axes>"
      ]
     },
     "metadata": {},
     "output_type": "display_data"
    }
   ],
   "source": [
    "plt.ylim(-1,1)\n",
    "plt.scatter(p4k[p4k.score < 5].score, p4k[p4k.score<5].sentiment,alpha=0.2)"
   ]
  },
  {
   "cell_type": "markdown",
   "metadata": {},
   "source": [
    "Unfortunately, seems that there is no relationship between VADER sentiment and Pitchfork Rating"
   ]
  },
  {
   "cell_type": "code",
   "execution_count": 161,
   "metadata": {},
   "outputs": [],
   "source": [
    "negative = p4k[p4k.sentiment < 0]"
   ]
  },
  {
   "cell_type": "code",
   "execution_count": 162,
   "metadata": {},
   "outputs": [
    {
     "data": {
      "text/plain": [
       "6.729995276334437"
      ]
     },
     "execution_count": 162,
     "metadata": {},
     "output_type": "execute_result"
    }
   ],
   "source": [
    "negative.score.mean()"
   ]
  }
 ],
 "metadata": {
  "kernelspec": {
   "display_name": "Python 3",
   "language": "python",
   "name": "python3"
  },
  "language_info": {
   "codemirror_mode": {
    "name": "ipython",
    "version": 3
   },
   "file_extension": ".py",
   "mimetype": "text/x-python",
   "name": "python",
   "nbconvert_exporter": "python",
   "pygments_lexer": "ipython3",
   "version": "3.6.6"
  }
 },
 "nbformat": 4,
 "nbformat_minor": 2
}
