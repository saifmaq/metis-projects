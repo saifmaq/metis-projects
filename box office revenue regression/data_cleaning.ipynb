{
 "cells": [
  {
   "cell_type": "code",
   "execution_count": 2,
   "metadata": {},
   "outputs": [],
   "source": [
    "import pickle\n",
    "import pandas as pd\n",
    "import numpy as np\n",
    "mojodf = pickle.load( open( \"mojo_movies.pkl\", \"rb\" ) )\n",
    "numdf = pickle.load(open(\"numdf.pkl\",\"rb\"))"
   ]
  },
  {
   "cell_type": "code",
   "execution_count": 3,
   "metadata": {},
   "outputs": [
    {
     "data": {
      "text/html": [
       "<div>\n",
       "<style scoped>\n",
       "    .dataframe tbody tr th:only-of-type {\n",
       "        vertical-align: middle;\n",
       "    }\n",
       "\n",
       "    .dataframe tbody tr th {\n",
       "        vertical-align: top;\n",
       "    }\n",
       "\n",
       "    .dataframe thead th {\n",
       "        text-align: right;\n",
       "    }\n",
       "</style>\n",
       "<table border=\"1\" class=\"dataframe\">\n",
       "  <thead>\n",
       "    <tr style=\"text-align: right;\">\n",
       "      <th></th>\n",
       "      <th>budget</th>\n",
       "      <th>domestic_gross</th>\n",
       "      <th>movie_title</th>\n",
       "      <th>release_date</th>\n",
       "      <th>worldwide_gross</th>\n",
       "    </tr>\n",
       "  </thead>\n",
       "  <tbody>\n",
       "    <tr>\n",
       "      <th>0</th>\n",
       "      <td>$175,000,000</td>\n",
       "      <td>$102,491,776</td>\n",
       "      <td>The Mummy: Tomb of the Dragon Emperor</td>\n",
       "      <td>8/1/2008</td>\n",
       "      <td>$405,760,225</td>\n",
       "    </tr>\n",
       "    <tr>\n",
       "      <th>1</th>\n",
       "      <td>$175,000,000</td>\n",
       "      <td>$100,289,690</td>\n",
       "      <td>Evan Almighty</td>\n",
       "      <td>6/22/2007</td>\n",
       "      <td>$174,131,329</td>\n",
       "    </tr>\n",
       "    <tr>\n",
       "      <th>2</th>\n",
       "      <td>$175,000,000</td>\n",
       "      <td>$88,246,220</td>\n",
       "      <td>Waterworld</td>\n",
       "      <td>7/28/1995</td>\n",
       "      <td>$264,246,220</td>\n",
       "    </tr>\n",
       "    <tr>\n",
       "      <th>3</th>\n",
       "      <td>$175,000,000</td>\n",
       "      <td>$39,175,066</td>\n",
       "      <td>King Arthur: Legend of the Sword</td>\n",
       "      <td>5/12/2017</td>\n",
       "      <td>$139,950,708</td>\n",
       "    </tr>\n",
       "    <tr>\n",
       "      <th>4</th>\n",
       "      <td>$175,000,000</td>\n",
       "      <td>$38,362,475</td>\n",
       "      <td>47 Ronin</td>\n",
       "      <td>12/25/2013</td>\n",
       "      <td>$151,716,815</td>\n",
       "    </tr>\n",
       "  </tbody>\n",
       "</table>\n",
       "</div>"
      ],
      "text/plain": [
       "         budget domestic_gross                            movie_title  \\\n",
       "0  $175,000,000   $102,491,776  The Mummy: Tomb of the Dragon Emperor   \n",
       "1  $175,000,000   $100,289,690                          Evan Almighty   \n",
       "2  $175,000,000    $88,246,220                             Waterworld   \n",
       "3  $175,000,000    $39,175,066       King Arthur: Legend of the Sword   \n",
       "4  $175,000,000    $38,362,475                               47 Ronin   \n",
       "\n",
       "  release_date worldwide_gross  \n",
       "0     8/1/2008    $405,760,225  \n",
       "1    6/22/2007    $174,131,329  \n",
       "2    7/28/1995    $264,246,220  \n",
       "3    5/12/2017    $139,950,708  \n",
       "4   12/25/2013    $151,716,815  "
      ]
     },
     "execution_count": 3,
     "metadata": {},
     "output_type": "execute_result"
    }
   ],
   "source": [
    "numdf.head()"
   ]
  },
  {
   "cell_type": "code",
   "execution_count": 4,
   "metadata": {},
   "outputs": [],
   "source": [
    "# Convert dollar amounts to integers\n",
    "dol_to_int = lambda x: int(x.replace('$','').replace(',',''))\n",
    "numdf['budget'] = numdf['budget'].apply(dol_to_int)"
   ]
  },
  {
   "cell_type": "code",
   "execution_count": 5,
   "metadata": {},
   "outputs": [],
   "source": [
    "numdf['domestic_gross'] = numdf['domestic_gross'].apply(dol_to_int)\n",
    "numdf['worldwide_gross'] = numdf['worldwide_gross'].apply(dol_to_int)\n",
    "numdf['release_date'] = pd.to_datetime(numdf['release_date']) "
   ]
  },
  {
   "cell_type": "code",
   "execution_count": 6,
   "metadata": {},
   "outputs": [
    {
     "data": {
      "text/html": [
       "<div>\n",
       "<style scoped>\n",
       "    .dataframe tbody tr th:only-of-type {\n",
       "        vertical-align: middle;\n",
       "    }\n",
       "\n",
       "    .dataframe tbody tr th {\n",
       "        vertical-align: top;\n",
       "    }\n",
       "\n",
       "    .dataframe thead th {\n",
       "        text-align: right;\n",
       "    }\n",
       "</style>\n",
       "<table border=\"1\" class=\"dataframe\">\n",
       "  <thead>\n",
       "    <tr style=\"text-align: right;\">\n",
       "      <th></th>\n",
       "      <th>budget</th>\n",
       "      <th>domestic_gross</th>\n",
       "      <th>movie_title</th>\n",
       "      <th>release_date</th>\n",
       "      <th>worldwide_gross</th>\n",
       "    </tr>\n",
       "  </thead>\n",
       "  <tbody>\n",
       "    <tr>\n",
       "      <th>0</th>\n",
       "      <td>175000000</td>\n",
       "      <td>102491776</td>\n",
       "      <td>The Mummy: Tomb of the Dragon Emperor</td>\n",
       "      <td>2008-08-01</td>\n",
       "      <td>405760225</td>\n",
       "    </tr>\n",
       "    <tr>\n",
       "      <th>1</th>\n",
       "      <td>175000000</td>\n",
       "      <td>100289690</td>\n",
       "      <td>Evan Almighty</td>\n",
       "      <td>2007-06-22</td>\n",
       "      <td>174131329</td>\n",
       "    </tr>\n",
       "    <tr>\n",
       "      <th>2</th>\n",
       "      <td>175000000</td>\n",
       "      <td>88246220</td>\n",
       "      <td>Waterworld</td>\n",
       "      <td>1995-07-28</td>\n",
       "      <td>264246220</td>\n",
       "    </tr>\n",
       "    <tr>\n",
       "      <th>3</th>\n",
       "      <td>175000000</td>\n",
       "      <td>39175066</td>\n",
       "      <td>King Arthur: Legend of the Sword</td>\n",
       "      <td>2017-05-12</td>\n",
       "      <td>139950708</td>\n",
       "    </tr>\n",
       "    <tr>\n",
       "      <th>4</th>\n",
       "      <td>175000000</td>\n",
       "      <td>38362475</td>\n",
       "      <td>47 Ronin</td>\n",
       "      <td>2013-12-25</td>\n",
       "      <td>151716815</td>\n",
       "    </tr>\n",
       "  </tbody>\n",
       "</table>\n",
       "</div>"
      ],
      "text/plain": [
       "      budget  domestic_gross                            movie_title  \\\n",
       "0  175000000       102491776  The Mummy: Tomb of the Dragon Emperor   \n",
       "1  175000000       100289690                          Evan Almighty   \n",
       "2  175000000        88246220                             Waterworld   \n",
       "3  175000000        39175066       King Arthur: Legend of the Sword   \n",
       "4  175000000        38362475                               47 Ronin   \n",
       "\n",
       "  release_date  worldwide_gross  \n",
       "0   2008-08-01        405760225  \n",
       "1   2007-06-22        174131329  \n",
       "2   1995-07-28        264246220  \n",
       "3   2017-05-12        139950708  \n",
       "4   2013-12-25        151716815  "
      ]
     },
     "execution_count": 6,
     "metadata": {},
     "output_type": "execute_result"
    }
   ],
   "source": [
    "numdf.head()"
   ]
  },
  {
   "cell_type": "code",
   "execution_count": 7,
   "metadata": {},
   "outputs": [
    {
     "data": {
      "text/html": [
       "<div>\n",
       "<style scoped>\n",
       "    .dataframe tbody tr th:only-of-type {\n",
       "        vertical-align: middle;\n",
       "    }\n",
       "\n",
       "    .dataframe tbody tr th {\n",
       "        vertical-align: top;\n",
       "    }\n",
       "\n",
       "    .dataframe thead th {\n",
       "        text-align: right;\n",
       "    }\n",
       "</style>\n",
       "<table border=\"1\" class=\"dataframe\">\n",
       "  <thead>\n",
       "    <tr style=\"text-align: right;\">\n",
       "      <th></th>\n",
       "      <th>domestic total gross</th>\n",
       "      <th>genre</th>\n",
       "      <th>movie title</th>\n",
       "      <th>opening weekend gross</th>\n",
       "      <th>opening weekend percentage</th>\n",
       "      <th>rating</th>\n",
       "      <th>release date</th>\n",
       "      <th>runtime</th>\n",
       "    </tr>\n",
       "  </thead>\n",
       "  <tbody>\n",
       "    <tr>\n",
       "      <th>0</th>\n",
       "      <td>65187603</td>\n",
       "      <td>Adventure</td>\n",
       "      <td>Jack the Giant Slayer</td>\n",
       "      <td>27202226</td>\n",
       "      <td>41.7</td>\n",
       "      <td>PG-13</td>\n",
       "      <td>March 1, 2013</td>\n",
       "      <td>1 hrs 54 min</td>\n",
       "    </tr>\n",
       "    <tr>\n",
       "      <th>1</th>\n",
       "      <td>177243721</td>\n",
       "      <td>Family Adventure</td>\n",
       "      <td>Night at the Museum:\\nBattle of the Smithsonian</td>\n",
       "      <td>54173286</td>\n",
       "      <td>30.6</td>\n",
       "      <td>PG</td>\n",
       "      <td>May 22, 2009</td>\n",
       "      <td>1 hrs 45 min</td>\n",
       "    </tr>\n",
       "    <tr>\n",
       "      <th>2</th>\n",
       "      <td>65187603</td>\n",
       "      <td>Adventure</td>\n",
       "      <td>Jack the Giant Slayer</td>\n",
       "      <td>27202226</td>\n",
       "      <td>41.7</td>\n",
       "      <td>PG-13</td>\n",
       "      <td>March 1, 2013</td>\n",
       "      <td>1 hrs 54 min</td>\n",
       "    </tr>\n",
       "    <tr>\n",
       "      <th>3</th>\n",
       "      <td>177243721</td>\n",
       "      <td>Family Adventure</td>\n",
       "      <td>Night at the Museum:\\nBattle of the Smithsonian</td>\n",
       "      <td>54173286</td>\n",
       "      <td>30.6</td>\n",
       "      <td>PG</td>\n",
       "      <td>May 22, 2009</td>\n",
       "      <td>1 hrs 45 min</td>\n",
       "    </tr>\n",
       "    <tr>\n",
       "      <th>4</th>\n",
       "      <td>57138719</td>\n",
       "      <td>Thriller</td>\n",
       "      <td>Unlawful Entry</td>\n",
       "      <td>10067609</td>\n",
       "      <td>17.6</td>\n",
       "      <td>R</td>\n",
       "      <td>June 26, 1992</td>\n",
       "      <td>1 hrs 57 min</td>\n",
       "    </tr>\n",
       "  </tbody>\n",
       "</table>\n",
       "</div>"
      ],
      "text/plain": [
       "  domestic total gross             genre  \\\n",
       "0             65187603         Adventure   \n",
       "1            177243721  Family Adventure   \n",
       "2             65187603         Adventure   \n",
       "3            177243721  Family Adventure   \n",
       "4             57138719          Thriller   \n",
       "\n",
       "                                       movie title opening weekend gross  \\\n",
       "0                            Jack the Giant Slayer              27202226   \n",
       "1  Night at the Museum:\\nBattle of the Smithsonian              54173286   \n",
       "2                            Jack the Giant Slayer              27202226   \n",
       "3  Night at the Museum:\\nBattle of the Smithsonian              54173286   \n",
       "4                                   Unlawful Entry              10067609   \n",
       "\n",
       "  opening weekend percentage rating   release date       runtime  \n",
       "0                       41.7  PG-13  March 1, 2013  1 hrs 54 min  \n",
       "1                       30.6     PG   May 22, 2009  1 hrs 45 min  \n",
       "2                       41.7  PG-13  March 1, 2013  1 hrs 54 min  \n",
       "3                       30.6     PG   May 22, 2009  1 hrs 45 min  \n",
       "4                       17.6      R  June 26, 1992  1 hrs 57 min  "
      ]
     },
     "execution_count": 7,
     "metadata": {},
     "output_type": "execute_result"
    }
   ],
   "source": [
    "mojodf.head()"
   ]
  },
  {
   "cell_type": "code",
   "execution_count": 8,
   "metadata": {},
   "outputs": [],
   "source": [
    "mojodf.columns = (['domestic_gross','genre','movie_title','opening_weekend_gross',\n",
    "                   'opening_weekend_percentage','rating','release_date','runtime'])"
   ]
  },
  {
   "cell_type": "code",
   "execution_count": 9,
   "metadata": {},
   "outputs": [],
   "source": [
    "#clean strings\n",
    "string_clean = lambda x: str(x).lower().strip().replace(':','').replace('\\n', ' ')"
   ]
  },
  {
   "cell_type": "code",
   "execution_count": 10,
   "metadata": {},
   "outputs": [],
   "source": [
    "mojodf['movie_title'] = mojodf['movie_title'].apply(string_clean)\n",
    "numdf['movie_title'] = numdf['movie_title'].apply(string_clean)"
   ]
  },
  {
   "cell_type": "code",
   "execution_count": 11,
   "metadata": {},
   "outputs": [],
   "source": [
    "# combine the two dataframes using Levenshtein Distance to match titles with slight differences\n",
    "import difflib\n",
    "def title_matcher(x):\n",
    "    try:\n",
    "        #difflib returns a LIST of close matches, we are choosing the first member of the list \n",
    "        matches = (difflib.get_close_matches(x, mojodf['movie_title']))\n",
    "        return matches[0]\n",
    "    except:\n",
    "        # if there is no match, a null value will be inserted into the data frame \n",
    "        return np.NaN"
   ]
  },
  {
   "cell_type": "code",
   "execution_count": 12,
   "metadata": {},
   "outputs": [],
   "source": [
    "numdf['likely_match'] = numdf['movie_title'].apply(title_matcher)"
   ]
  },
  {
   "cell_type": "code",
   "execution_count": 13,
   "metadata": {},
   "outputs": [
    {
     "name": "stdout",
     "output_type": "stream",
     "text": [
      "<class 'pandas.core.frame.DataFrame'>\n",
      "RangeIndex: 5494 entries, 0 to 5493\n",
      "Data columns (total 6 columns):\n",
      "budget             5494 non-null int64\n",
      "domestic_gross     5494 non-null int64\n",
      "movie_title        5494 non-null object\n",
      "release_date       5494 non-null datetime64[ns]\n",
      "worldwide_gross    5494 non-null int64\n",
      "likely_match       4725 non-null object\n",
      "dtypes: datetime64[ns](1), int64(3), object(2)\n",
      "memory usage: 257.6+ KB\n"
     ]
    }
   ],
   "source": [
    "workingcopy = numdf\n",
    "numdf.info()"
   ]
  },
  {
   "cell_type": "code",
   "execution_count": 14,
   "metadata": {},
   "outputs": [
    {
     "name": "stdout",
     "output_type": "stream",
     "text": [
      "<class 'pandas.core.frame.DataFrame'>\n",
      "Int64Index: 4725 entries, 0 to 5493\n",
      "Data columns (total 6 columns):\n",
      "budget             4725 non-null int64\n",
      "domestic_gross     4725 non-null int64\n",
      "movie_title        4725 non-null object\n",
      "release_date       4725 non-null datetime64[ns]\n",
      "worldwide_gross    4725 non-null int64\n",
      "likely_match       4725 non-null object\n",
      "dtypes: datetime64[ns](1), int64(3), object(2)\n",
      "memory usage: 258.4+ KB\n"
     ]
    }
   ],
   "source": [
    "#drop entries from \n",
    "workingcopy.dropna(axis=0,subset=['likely_match'],inplace=True)\n",
    "workingcopy.info()"
   ]
  },
  {
   "cell_type": "code",
   "execution_count": 15,
   "metadata": {},
   "outputs": [],
   "source": [
    "workingcopy['movie_title'] = workingcopy['likely_match']"
   ]
  },
  {
   "cell_type": "code",
   "execution_count": 16,
   "metadata": {},
   "outputs": [],
   "source": [
    "cinedf = pd.merge(mojodf, workingcopy, on='movie_title')"
   ]
  },
  {
   "cell_type": "code",
   "execution_count": 17,
   "metadata": {},
   "outputs": [
    {
     "data": {
      "text/html": [
       "<div>\n",
       "<style scoped>\n",
       "    .dataframe tbody tr th:only-of-type {\n",
       "        vertical-align: middle;\n",
       "    }\n",
       "\n",
       "    .dataframe tbody tr th {\n",
       "        vertical-align: top;\n",
       "    }\n",
       "\n",
       "    .dataframe thead th {\n",
       "        text-align: right;\n",
       "    }\n",
       "</style>\n",
       "<table border=\"1\" class=\"dataframe\">\n",
       "  <thead>\n",
       "    <tr style=\"text-align: right;\">\n",
       "      <th></th>\n",
       "      <th>domestic_gross_x</th>\n",
       "      <th>genre</th>\n",
       "      <th>movie_title</th>\n",
       "      <th>opening_weekend_gross</th>\n",
       "      <th>opening_weekend_percentage</th>\n",
       "      <th>rating</th>\n",
       "      <th>release_date_x</th>\n",
       "      <th>runtime</th>\n",
       "      <th>budget</th>\n",
       "      <th>domestic_gross_y</th>\n",
       "      <th>release_date_y</th>\n",
       "      <th>worldwide_gross</th>\n",
       "      <th>likely_match</th>\n",
       "    </tr>\n",
       "  </thead>\n",
       "  <tbody>\n",
       "    <tr>\n",
       "      <th>0</th>\n",
       "      <td>65187603</td>\n",
       "      <td>Adventure</td>\n",
       "      <td>jack the giant slayer</td>\n",
       "      <td>27202226</td>\n",
       "      <td>41.7</td>\n",
       "      <td>PG-13</td>\n",
       "      <td>March 1, 2013</td>\n",
       "      <td>1 hrs 54 min</td>\n",
       "      <td>100000</td>\n",
       "      <td>10178331</td>\n",
       "      <td>2006-09-29</td>\n",
       "      <td>10243159</td>\n",
       "      <td>jack the giant slayer</td>\n",
       "    </tr>\n",
       "    <tr>\n",
       "      <th>1</th>\n",
       "      <td>65187603</td>\n",
       "      <td>Adventure</td>\n",
       "      <td>jack the giant slayer</td>\n",
       "      <td>27202226</td>\n",
       "      <td>41.7</td>\n",
       "      <td>PG-13</td>\n",
       "      <td>March 1, 2013</td>\n",
       "      <td>1 hrs 54 min</td>\n",
       "      <td>100000</td>\n",
       "      <td>10178331</td>\n",
       "      <td>2006-09-29</td>\n",
       "      <td>10243159</td>\n",
       "      <td>jack the giant slayer</td>\n",
       "    </tr>\n",
       "    <tr>\n",
       "      <th>2</th>\n",
       "      <td>177243721</td>\n",
       "      <td>Family Adventure</td>\n",
       "      <td>night at the museum battle of the smithsonian</td>\n",
       "      <td>54173286</td>\n",
       "      <td>30.6</td>\n",
       "      <td>PG</td>\n",
       "      <td>May 22, 2009</td>\n",
       "      <td>1 hrs 45 min</td>\n",
       "      <td>150000000</td>\n",
       "      <td>177243721</td>\n",
       "      <td>2009-05-22</td>\n",
       "      <td>402231063</td>\n",
       "      <td>night at the museum battle of the smithsonian</td>\n",
       "    </tr>\n",
       "    <tr>\n",
       "      <th>3</th>\n",
       "      <td>177243721</td>\n",
       "      <td>Family Adventure</td>\n",
       "      <td>night at the museum battle of the smithsonian</td>\n",
       "      <td>54173286</td>\n",
       "      <td>30.6</td>\n",
       "      <td>PG</td>\n",
       "      <td>May 22, 2009</td>\n",
       "      <td>1 hrs 45 min</td>\n",
       "      <td>150000000</td>\n",
       "      <td>177243721</td>\n",
       "      <td>2009-05-22</td>\n",
       "      <td>402231063</td>\n",
       "      <td>night at the museum battle of the smithsonian</td>\n",
       "    </tr>\n",
       "    <tr>\n",
       "      <th>4</th>\n",
       "      <td>87242834</td>\n",
       "      <td>Fantasy</td>\n",
       "      <td>miss peregrine's home for peculiar children</td>\n",
       "      <td>28871140</td>\n",
       "      <td>33.1</td>\n",
       "      <td>PG-13</td>\n",
       "      <td>September 30, 2016</td>\n",
       "      <td>2 hrs 7 min</td>\n",
       "      <td>110000000</td>\n",
       "      <td>87242834</td>\n",
       "      <td>2016-09-30</td>\n",
       "      <td>296642834</td>\n",
       "      <td>miss peregrine's home for peculiar children</td>\n",
       "    </tr>\n",
       "  </tbody>\n",
       "</table>\n",
       "</div>"
      ],
      "text/plain": [
       "  domestic_gross_x             genre  \\\n",
       "0         65187603         Adventure   \n",
       "1         65187603         Adventure   \n",
       "2        177243721  Family Adventure   \n",
       "3        177243721  Family Adventure   \n",
       "4         87242834           Fantasy   \n",
       "\n",
       "                                     movie_title opening_weekend_gross  \\\n",
       "0                          jack the giant slayer              27202226   \n",
       "1                          jack the giant slayer              27202226   \n",
       "2  night at the museum battle of the smithsonian              54173286   \n",
       "3  night at the museum battle of the smithsonian              54173286   \n",
       "4    miss peregrine's home for peculiar children              28871140   \n",
       "\n",
       "  opening_weekend_percentage rating      release_date_x       runtime  \\\n",
       "0                       41.7  PG-13       March 1, 2013  1 hrs 54 min   \n",
       "1                       41.7  PG-13       March 1, 2013  1 hrs 54 min   \n",
       "2                       30.6     PG        May 22, 2009  1 hrs 45 min   \n",
       "3                       30.6     PG        May 22, 2009  1 hrs 45 min   \n",
       "4                       33.1  PG-13  September 30, 2016   2 hrs 7 min   \n",
       "\n",
       "      budget  domestic_gross_y release_date_y  worldwide_gross  \\\n",
       "0     100000          10178331     2006-09-29         10243159   \n",
       "1     100000          10178331     2006-09-29         10243159   \n",
       "2  150000000         177243721     2009-05-22        402231063   \n",
       "3  150000000         177243721     2009-05-22        402231063   \n",
       "4  110000000          87242834     2016-09-30        296642834   \n",
       "\n",
       "                                    likely_match  \n",
       "0                          jack the giant slayer  \n",
       "1                          jack the giant slayer  \n",
       "2  night at the museum battle of the smithsonian  \n",
       "3  night at the museum battle of the smithsonian  \n",
       "4    miss peregrine's home for peculiar children  "
      ]
     },
     "execution_count": 17,
     "metadata": {},
     "output_type": "execute_result"
    }
   ],
   "source": [
    "cinedf.head()"
   ]
  },
  {
   "cell_type": "code",
   "execution_count": 18,
   "metadata": {},
   "outputs": [
    {
     "data": {
      "text/plain": [
       "True"
      ]
     },
     "execution_count": 18,
     "metadata": {},
     "output_type": "execute_result"
    }
   ],
   "source": [
    "cinedf.isnull().values.any()"
   ]
  },
  {
   "cell_type": "code",
   "execution_count": 19,
   "metadata": {},
   "outputs": [],
   "source": [
    "cinedf.dropna(inplace=True)\n",
    "cinedf.reset_index(drop=True, inplace=True)"
   ]
  },
  {
   "cell_type": "code",
   "execution_count": 20,
   "metadata": {},
   "outputs": [
    {
     "data": {
      "text/plain": [
       "False"
      ]
     },
     "execution_count": 20,
     "metadata": {},
     "output_type": "execute_result"
    }
   ],
   "source": [
    "cinedf.isnull().values.any()"
   ]
  },
  {
   "cell_type": "code",
   "execution_count": 21,
   "metadata": {},
   "outputs": [],
   "source": [
    "with open('cinedf.pkl','wb') as picklefile:\n",
    "    pickle.dump(cinedf,picklefile)"
   ]
  },
  {
   "cell_type": "code",
   "execution_count": 22,
   "metadata": {},
   "outputs": [],
   "source": [
    "cinedf.drop(['domestic_gross_y','release_date_y','likely_match'], axis=1,inplace=True)"
   ]
  },
  {
   "cell_type": "code",
   "execution_count": 23,
   "metadata": {},
   "outputs": [],
   "source": [
    "cinedf.columns = ['domestic_gross', 'genre', 'movie_title','opening_weekend_gross','opening_weekend_percentage','rating','release_date','runtime','budget','worldwide_gross']"
   ]
  },
  {
   "cell_type": "code",
   "execution_count": 24,
   "metadata": {},
   "outputs": [],
   "source": [
    "dummy = pd.get_dummies(cinedf['rating'])"
   ]
  },
  {
   "cell_type": "code",
   "execution_count": 25,
   "metadata": {},
   "outputs": [],
   "source": [
    "cinedf = pd.concat([cinedf.drop('rating', axis=1), dummy], axis=1)"
   ]
  },
  {
   "cell_type": "code",
   "execution_count": 26,
   "metadata": {},
   "outputs": [],
   "source": [
    "#Convert runtime to numeric value in minutes\n",
    "def runtime_parser(runtime):\n",
    "    rt = (int(runtime.split()[0]) * 60) + int(runtime.split()[2])\n",
    "    return rt"
   ]
  },
  {
   "cell_type": "code",
   "execution_count": 27,
   "metadata": {},
   "outputs": [],
   "source": [
    "cinedf.runtime = cinedf['runtime'].apply(runtime_parser)\n",
    "cinedf['runtime'] = pd.to_numeric(cinedf['runtime'])"
   ]
  },
  {
   "cell_type": "code",
   "execution_count": 28,
   "metadata": {},
   "outputs": [],
   "source": [
    "#convert release date to numeric value\n",
    "cinedf['release_date'] = pd.to_datetime(cinedf['release_date'])"
   ]
  },
  {
   "cell_type": "code",
   "execution_count": 29,
   "metadata": {},
   "outputs": [],
   "source": [
    "cinedf.drop_duplicates(inplace=True)"
   ]
  },
  {
   "cell_type": "code",
   "execution_count": 31,
   "metadata": {},
   "outputs": [],
   "source": [
    "with open('data_clean.pkl','wb') as picklefile:\n",
    "    pickle.dump(cinedf,picklefile)"
   ]
  },
  {
   "cell_type": "code",
   "execution_count": null,
   "metadata": {},
   "outputs": [],
   "source": []
  },
  {
   "cell_type": "code",
   "execution_count": null,
   "metadata": {},
   "outputs": [],
   "source": []
  }
 ],
 "metadata": {
  "kernelspec": {
   "display_name": "Python 3",
   "language": "python",
   "name": "python3"
  },
  "language_info": {
   "codemirror_mode": {
    "name": "ipython",
    "version": 3
   },
   "file_extension": ".py",
   "mimetype": "text/x-python",
   "name": "python",
   "nbconvert_exporter": "python",
   "pygments_lexer": "ipython3",
   "version": "3.6.6"
  }
 },
 "nbformat": 4,
 "nbformat_minor": 2
}
