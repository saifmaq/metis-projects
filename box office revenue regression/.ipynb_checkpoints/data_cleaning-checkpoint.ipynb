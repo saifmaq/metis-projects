{
 "cells": [
  {
   "cell_type": "code",
   "execution_count": 114,
   "metadata": {},
   "outputs": [],
   "source": [
    "import pickle\n",
    "import pandas as pd\n",
    "import numpy as np\n",
    "mojodf = pickle.load( open( \"mojoFRAME.pkl\", \"rb\" ) )\n",
    "numdf = pickle.load(open(\"numdf.pkl\",\"rb\"))"
   ]
  },
  {
   "cell_type": "code",
   "execution_count": 115,
   "metadata": {},
   "outputs": [
    {
     "data": {
      "text/html": [
       "<div>\n",
       "<style scoped>\n",
       "    .dataframe tbody tr th:only-of-type {\n",
       "        vertical-align: middle;\n",
       "    }\n",
       "\n",
       "    .dataframe tbody tr th {\n",
       "        vertical-align: top;\n",
       "    }\n",
       "\n",
       "    .dataframe thead th {\n",
       "        text-align: right;\n",
       "    }\n",
       "</style>\n",
       "<table border=\"1\" class=\"dataframe\">\n",
       "  <thead>\n",
       "    <tr style=\"text-align: right;\">\n",
       "      <th></th>\n",
       "      <th>budget</th>\n",
       "      <th>domestic_gross</th>\n",
       "      <th>movie_title</th>\n",
       "      <th>release_date</th>\n",
       "      <th>worldwide_gross</th>\n",
       "    </tr>\n",
       "  </thead>\n",
       "  <tbody>\n",
       "    <tr>\n",
       "      <th>0</th>\n",
       "      <td>$175,000,000</td>\n",
       "      <td>$102,491,776</td>\n",
       "      <td>The Mummy: Tomb of the Dragon Emperor</td>\n",
       "      <td>8/1/2008</td>\n",
       "      <td>$405,760,225</td>\n",
       "    </tr>\n",
       "    <tr>\n",
       "      <th>1</th>\n",
       "      <td>$175,000,000</td>\n",
       "      <td>$100,289,690</td>\n",
       "      <td>Evan Almighty</td>\n",
       "      <td>6/22/2007</td>\n",
       "      <td>$174,131,329</td>\n",
       "    </tr>\n",
       "    <tr>\n",
       "      <th>2</th>\n",
       "      <td>$175,000,000</td>\n",
       "      <td>$88,246,220</td>\n",
       "      <td>Waterworld</td>\n",
       "      <td>7/28/1995</td>\n",
       "      <td>$264,246,220</td>\n",
       "    </tr>\n",
       "    <tr>\n",
       "      <th>3</th>\n",
       "      <td>$175,000,000</td>\n",
       "      <td>$39,175,066</td>\n",
       "      <td>King Arthur: Legend of the Sword</td>\n",
       "      <td>5/12/2017</td>\n",
       "      <td>$139,950,708</td>\n",
       "    </tr>\n",
       "    <tr>\n",
       "      <th>4</th>\n",
       "      <td>$175,000,000</td>\n",
       "      <td>$38,362,475</td>\n",
       "      <td>47 Ronin</td>\n",
       "      <td>12/25/2013</td>\n",
       "      <td>$151,716,815</td>\n",
       "    </tr>\n",
       "  </tbody>\n",
       "</table>\n",
       "</div>"
      ],
      "text/plain": [
       "         budget domestic_gross                            movie_title  \\\n",
       "0  $175,000,000   $102,491,776  The Mummy: Tomb of the Dragon Emperor   \n",
       "1  $175,000,000   $100,289,690                          Evan Almighty   \n",
       "2  $175,000,000    $88,246,220                             Waterworld   \n",
       "3  $175,000,000    $39,175,066       King Arthur: Legend of the Sword   \n",
       "4  $175,000,000    $38,362,475                               47 Ronin   \n",
       "\n",
       "  release_date worldwide_gross  \n",
       "0     8/1/2008    $405,760,225  \n",
       "1    6/22/2007    $174,131,329  \n",
       "2    7/28/1995    $264,246,220  \n",
       "3    5/12/2017    $139,950,708  \n",
       "4   12/25/2013    $151,716,815  "
      ]
     },
     "execution_count": 115,
     "metadata": {},
     "output_type": "execute_result"
    }
   ],
   "source": [
    "numdf.head()\n"
   ]
  },
  {
   "cell_type": "code",
   "execution_count": 116,
   "metadata": {},
   "outputs": [],
   "source": [
    "dol_to_int = lambda x: int(x.replace('$','').replace(',',''))\n",
    "numdf['budget'] = numdf['budget'].apply(dol_to_int)\n"
   ]
  },
  {
   "cell_type": "code",
   "execution_count": 117,
   "metadata": {},
   "outputs": [],
   "source": [
    "numdf['domestic_gross'] = numdf['domestic_gross'].apply(dol_to_int)\n",
    "numdf['worldwide_gross'] = numdf['worldwide_gross'].apply(dol_to_int)\n",
    "numdf['release_date'] = pd.to_datetime(numdf['release_date']) "
   ]
  },
  {
   "cell_type": "code",
   "execution_count": 118,
   "metadata": {},
   "outputs": [
    {
     "data": {
      "text/html": [
       "<div>\n",
       "<style scoped>\n",
       "    .dataframe tbody tr th:only-of-type {\n",
       "        vertical-align: middle;\n",
       "    }\n",
       "\n",
       "    .dataframe tbody tr th {\n",
       "        vertical-align: top;\n",
       "    }\n",
       "\n",
       "    .dataframe thead th {\n",
       "        text-align: right;\n",
       "    }\n",
       "</style>\n",
       "<table border=\"1\" class=\"dataframe\">\n",
       "  <thead>\n",
       "    <tr style=\"text-align: right;\">\n",
       "      <th></th>\n",
       "      <th>budget</th>\n",
       "      <th>domestic_gross</th>\n",
       "      <th>movie_title</th>\n",
       "      <th>release_date</th>\n",
       "      <th>worldwide_gross</th>\n",
       "    </tr>\n",
       "  </thead>\n",
       "  <tbody>\n",
       "    <tr>\n",
       "      <th>0</th>\n",
       "      <td>175000000</td>\n",
       "      <td>102491776</td>\n",
       "      <td>The Mummy: Tomb of the Dragon Emperor</td>\n",
       "      <td>2008-08-01</td>\n",
       "      <td>405760225</td>\n",
       "    </tr>\n",
       "    <tr>\n",
       "      <th>1</th>\n",
       "      <td>175000000</td>\n",
       "      <td>100289690</td>\n",
       "      <td>Evan Almighty</td>\n",
       "      <td>2007-06-22</td>\n",
       "      <td>174131329</td>\n",
       "    </tr>\n",
       "    <tr>\n",
       "      <th>2</th>\n",
       "      <td>175000000</td>\n",
       "      <td>88246220</td>\n",
       "      <td>Waterworld</td>\n",
       "      <td>1995-07-28</td>\n",
       "      <td>264246220</td>\n",
       "    </tr>\n",
       "    <tr>\n",
       "      <th>3</th>\n",
       "      <td>175000000</td>\n",
       "      <td>39175066</td>\n",
       "      <td>King Arthur: Legend of the Sword</td>\n",
       "      <td>2017-05-12</td>\n",
       "      <td>139950708</td>\n",
       "    </tr>\n",
       "    <tr>\n",
       "      <th>4</th>\n",
       "      <td>175000000</td>\n",
       "      <td>38362475</td>\n",
       "      <td>47 Ronin</td>\n",
       "      <td>2013-12-25</td>\n",
       "      <td>151716815</td>\n",
       "    </tr>\n",
       "  </tbody>\n",
       "</table>\n",
       "</div>"
      ],
      "text/plain": [
       "      budget  domestic_gross                            movie_title  \\\n",
       "0  175000000       102491776  The Mummy: Tomb of the Dragon Emperor   \n",
       "1  175000000       100289690                          Evan Almighty   \n",
       "2  175000000        88246220                             Waterworld   \n",
       "3  175000000        39175066       King Arthur: Legend of the Sword   \n",
       "4  175000000        38362475                               47 Ronin   \n",
       "\n",
       "  release_date  worldwide_gross  \n",
       "0   2008-08-01        405760225  \n",
       "1   2007-06-22        174131329  \n",
       "2   1995-07-28        264246220  \n",
       "3   2017-05-12        139950708  \n",
       "4   2013-12-25        151716815  "
      ]
     },
     "execution_count": 118,
     "metadata": {},
     "output_type": "execute_result"
    }
   ],
   "source": [
    "numdf.head()"
   ]
  },
  {
   "cell_type": "code",
   "execution_count": 119,
   "metadata": {},
   "outputs": [],
   "source": [
    "mojodf.head()\n",
    "mojodf.columns = (['domestic_gross','genre','movie_title','opening_weekend_gross','opening_weekend_percentage','rating','release_date','runtime'])"
   ]
  },
  {
   "cell_type": "code",
   "execution_count": 120,
   "metadata": {},
   "outputs": [],
   "source": [
    "mojodf.head()\n",
    "string_clean = lambda x: x.lower().strip().replace(':','')"
   ]
  },
  {
   "cell_type": "code",
   "execution_count": 121,
   "metadata": {},
   "outputs": [],
   "source": [
    "mojodf['movie_title'] = mojodf['movie_title'].apply(string_clean)\n",
    "numdf['movie_title'] = numdf['movie_title'].apply(string_clean)\n"
   ]
  },
  {
   "cell_type": "code",
   "execution_count": null,
   "metadata": {},
   "outputs": [],
   "source": []
  },
  {
   "cell_type": "code",
   "execution_count": 122,
   "metadata": {},
   "outputs": [],
   "source": [
    "import difflib\n",
    "def title_matcher(x):\n",
    "    try:\n",
    "        #difflib returns a LIST of close matches, we are choosing the first member of the list \n",
    "        matches = (difflib.get_close_matches(x, mojodf['movie_title']))\n",
    "        return matches[0]\n",
    "    except:\n",
    "        # if there is no match, a null value will be inserted into the data frame \n",
    "        return np.NaN"
   ]
  },
  {
   "cell_type": "code",
   "execution_count": 129,
   "metadata": {},
   "outputs": [],
   "source": [
    "numdf['likely_match'] = numdf['movie_title'].apply(title_matcher)"
   ]
  },
  {
   "cell_type": "code",
   "execution_count": 139,
   "metadata": {},
   "outputs": [
    {
     "name": "stdout",
     "output_type": "stream",
     "text": [
      "<class 'pandas.core.frame.DataFrame'>\n",
      "Int64Index: 4705 entries, 0 to 5493\n",
      "Data columns (total 6 columns):\n",
      "budget             4705 non-null int64\n",
      "domestic_gross     4705 non-null int64\n",
      "movie_title        4705 non-null object\n",
      "release_date       4705 non-null datetime64[ns]\n",
      "worldwide_gross    4705 non-null int64\n",
      "likely_match       4705 non-null object\n",
      "dtypes: datetime64[ns](1), int64(3), object(2)\n",
      "memory usage: 257.3+ KB\n"
     ]
    }
   ],
   "source": [
    "workingcopy = numdf\n",
    "numdf.info()"
   ]
  },
  {
   "cell_type": "code",
   "execution_count": 140,
   "metadata": {},
   "outputs": [
    {
     "name": "stdout",
     "output_type": "stream",
     "text": [
      "<class 'pandas.core.frame.DataFrame'>\n",
      "Int64Index: 4705 entries, 0 to 5493\n",
      "Data columns (total 6 columns):\n",
      "budget             4705 non-null int64\n",
      "domestic_gross     4705 non-null int64\n",
      "movie_title        4705 non-null object\n",
      "release_date       4705 non-null datetime64[ns]\n",
      "worldwide_gross    4705 non-null int64\n",
      "likely_match       4705 non-null object\n",
      "dtypes: datetime64[ns](1), int64(3), object(2)\n",
      "memory usage: 257.3+ KB\n"
     ]
    }
   ],
   "source": [
    "#drop entries from \n",
    "workingcopy.dropna(axis=0,subset=['likely_match'],inplace=True)\n",
    "workingcopy.info()"
   ]
  },
  {
   "cell_type": "code",
   "execution_count": 143,
   "metadata": {},
   "outputs": [],
   "source": [
    "workingcopy['movie_title'] = workingcopy['likely_match']"
   ]
  },
  {
   "cell_type": "code",
   "execution_count": 148,
   "metadata": {},
   "outputs": [],
   "source": [
    "cinedf = pd.merge(mojodf, workingcopy, on='movie_title')"
   ]
  },
  {
   "cell_type": "code",
   "execution_count": 150,
   "metadata": {},
   "outputs": [
    {
     "data": {
      "text/html": [
       "<div>\n",
       "<style scoped>\n",
       "    .dataframe tbody tr th:only-of-type {\n",
       "        vertical-align: middle;\n",
       "    }\n",
       "\n",
       "    .dataframe tbody tr th {\n",
       "        vertical-align: top;\n",
       "    }\n",
       "\n",
       "    .dataframe thead th {\n",
       "        text-align: right;\n",
       "    }\n",
       "</style>\n",
       "<table border=\"1\" class=\"dataframe\">\n",
       "  <thead>\n",
       "    <tr style=\"text-align: right;\">\n",
       "      <th></th>\n",
       "      <th>domestic_gross_x</th>\n",
       "      <th>genre</th>\n",
       "      <th>movie_title</th>\n",
       "      <th>opening_weekend_gross</th>\n",
       "      <th>opening_weekend_percentage</th>\n",
       "      <th>rating</th>\n",
       "      <th>release_date_x</th>\n",
       "      <th>runtime</th>\n",
       "      <th>budget</th>\n",
       "      <th>domestic_gross_y</th>\n",
       "      <th>release_date_y</th>\n",
       "      <th>worldwide_gross</th>\n",
       "      <th>likely_match</th>\n",
       "    </tr>\n",
       "  </thead>\n",
       "  <tbody>\n",
       "    <tr>\n",
       "      <th>0</th>\n",
       "      <td>65187603.0</td>\n",
       "      <td>Adventure</td>\n",
       "      <td>jack the giant slayer</td>\n",
       "      <td>27202226.0</td>\n",
       "      <td>41.7</td>\n",
       "      <td>PG-13</td>\n",
       "      <td>2013-03-01</td>\n",
       "      <td>114</td>\n",
       "      <td>100000</td>\n",
       "      <td>10178331</td>\n",
       "      <td>2006-09-29</td>\n",
       "      <td>10243159</td>\n",
       "      <td>jack the giant slayer</td>\n",
       "    </tr>\n",
       "    <tr>\n",
       "      <th>1</th>\n",
       "      <td>177243721.0</td>\n",
       "      <td>Family Adventure</td>\n",
       "      <td>night at the museum battle of the smithsonian</td>\n",
       "      <td>54173286.0</td>\n",
       "      <td>30.6</td>\n",
       "      <td>PG</td>\n",
       "      <td>2009-05-22</td>\n",
       "      <td>105</td>\n",
       "      <td>150000000</td>\n",
       "      <td>177243721</td>\n",
       "      <td>2009-05-22</td>\n",
       "      <td>402231063</td>\n",
       "      <td>night at the museum battle of the smithsonian</td>\n",
       "    </tr>\n",
       "    <tr>\n",
       "      <th>2</th>\n",
       "      <td>87242834.0</td>\n",
       "      <td>Fantasy</td>\n",
       "      <td>miss peregrine's home for peculiar children</td>\n",
       "      <td>28871140.0</td>\n",
       "      <td>33.1</td>\n",
       "      <td>PG-13</td>\n",
       "      <td>2016-09-30</td>\n",
       "      <td>127</td>\n",
       "      <td>110000000</td>\n",
       "      <td>87242834</td>\n",
       "      <td>2016-09-30</td>\n",
       "      <td>296642834</td>\n",
       "      <td>miss peregrine's home for peculiar children</td>\n",
       "    </tr>\n",
       "    <tr>\n",
       "      <th>3</th>\n",
       "      <td>38702310.0</td>\n",
       "      <td>Romantic Comedy</td>\n",
       "      <td>about last night...</td>\n",
       "      <td>3152469.0</td>\n",
       "      <td>8.1</td>\n",
       "      <td>R</td>\n",
       "      <td>1986-07-04</td>\n",
       "      <td>113</td>\n",
       "      <td>13000000</td>\n",
       "      <td>48637684</td>\n",
       "      <td>2014-02-14</td>\n",
       "      <td>50445860</td>\n",
       "      <td>about last night...</td>\n",
       "    </tr>\n",
       "    <tr>\n",
       "      <th>4</th>\n",
       "      <td>23334953.0</td>\n",
       "      <td>Sports Drama</td>\n",
       "      <td>raging bull</td>\n",
       "      <td>128590.0</td>\n",
       "      <td>0.6</td>\n",
       "      <td>R</td>\n",
       "      <td>1980-11-14</td>\n",
       "      <td>129</td>\n",
       "      <td>18000000</td>\n",
       "      <td>23380203</td>\n",
       "      <td>1980-11-14</td>\n",
       "      <td>23380203</td>\n",
       "      <td>raging bull</td>\n",
       "    </tr>\n",
       "  </tbody>\n",
       "</table>\n",
       "</div>"
      ],
      "text/plain": [
       "   domestic_gross_x             genre  \\\n",
       "0        65187603.0         Adventure   \n",
       "1       177243721.0  Family Adventure   \n",
       "2        87242834.0           Fantasy   \n",
       "3        38702310.0   Romantic Comedy   \n",
       "4        23334953.0      Sports Drama   \n",
       "\n",
       "                                     movie_title  opening_weekend_gross  \\\n",
       "0                          jack the giant slayer             27202226.0   \n",
       "1  night at the museum battle of the smithsonian             54173286.0   \n",
       "2    miss peregrine's home for peculiar children             28871140.0   \n",
       "3                            about last night...              3152469.0   \n",
       "4                                    raging bull               128590.0   \n",
       "\n",
       "   opening_weekend_percentage rating release_date_x  runtime     budget  \\\n",
       "0                        41.7  PG-13     2013-03-01      114     100000   \n",
       "1                        30.6     PG     2009-05-22      105  150000000   \n",
       "2                        33.1  PG-13     2016-09-30      127  110000000   \n",
       "3                         8.1      R     1986-07-04      113   13000000   \n",
       "4                         0.6      R     1980-11-14      129   18000000   \n",
       "\n",
       "   domestic_gross_y release_date_y  worldwide_gross  \\\n",
       "0          10178331     2006-09-29         10243159   \n",
       "1         177243721     2009-05-22        402231063   \n",
       "2          87242834     2016-09-30        296642834   \n",
       "3          48637684     2014-02-14         50445860   \n",
       "4          23380203     1980-11-14         23380203   \n",
       "\n",
       "                                    likely_match  \n",
       "0                          jack the giant slayer  \n",
       "1  night at the museum battle of the smithsonian  \n",
       "2    miss peregrine's home for peculiar children  \n",
       "3                            about last night...  \n",
       "4                                    raging bull  "
      ]
     },
     "execution_count": 150,
     "metadata": {},
     "output_type": "execute_result"
    }
   ],
   "source": [
    "cinedf.head()"
   ]
  },
  {
   "cell_type": "code",
   "execution_count": 151,
   "metadata": {},
   "outputs": [
    {
     "data": {
      "text/plain": [
       "False"
      ]
     },
     "execution_count": 151,
     "metadata": {},
     "output_type": "execute_result"
    }
   ],
   "source": [
    "cinedf.isnull().values.any()"
   ]
  },
  {
   "cell_type": "code",
   "execution_count": 152,
   "metadata": {},
   "outputs": [
    {
     "data": {
      "text/html": [
       "<div>\n",
       "<style scoped>\n",
       "    .dataframe tbody tr th:only-of-type {\n",
       "        vertical-align: middle;\n",
       "    }\n",
       "\n",
       "    .dataframe tbody tr th {\n",
       "        vertical-align: top;\n",
       "    }\n",
       "\n",
       "    .dataframe thead th {\n",
       "        text-align: right;\n",
       "    }\n",
       "</style>\n",
       "<table border=\"1\" class=\"dataframe\">\n",
       "  <thead>\n",
       "    <tr style=\"text-align: right;\">\n",
       "      <th></th>\n",
       "      <th>domestic_gross_x</th>\n",
       "      <th>genre</th>\n",
       "      <th>movie_title</th>\n",
       "      <th>opening_weekend_gross</th>\n",
       "      <th>opening_weekend_percentage</th>\n",
       "      <th>rating</th>\n",
       "      <th>release_date_x</th>\n",
       "      <th>runtime</th>\n",
       "      <th>budget</th>\n",
       "      <th>domestic_gross_y</th>\n",
       "      <th>release_date_y</th>\n",
       "      <th>worldwide_gross</th>\n",
       "      <th>likely_match</th>\n",
       "    </tr>\n",
       "  </thead>\n",
       "  <tbody>\n",
       "    <tr>\n",
       "      <th>0</th>\n",
       "      <td>65187603.0</td>\n",
       "      <td>Adventure</td>\n",
       "      <td>jack the giant slayer</td>\n",
       "      <td>27202226.0</td>\n",
       "      <td>41.7</td>\n",
       "      <td>PG-13</td>\n",
       "      <td>2013-03-01</td>\n",
       "      <td>114</td>\n",
       "      <td>100000</td>\n",
       "      <td>10178331</td>\n",
       "      <td>2006-09-29</td>\n",
       "      <td>10243159</td>\n",
       "      <td>jack the giant slayer</td>\n",
       "    </tr>\n",
       "    <tr>\n",
       "      <th>1</th>\n",
       "      <td>177243721.0</td>\n",
       "      <td>Family Adventure</td>\n",
       "      <td>night at the museum battle of the smithsonian</td>\n",
       "      <td>54173286.0</td>\n",
       "      <td>30.6</td>\n",
       "      <td>PG</td>\n",
       "      <td>2009-05-22</td>\n",
       "      <td>105</td>\n",
       "      <td>150000000</td>\n",
       "      <td>177243721</td>\n",
       "      <td>2009-05-22</td>\n",
       "      <td>402231063</td>\n",
       "      <td>night at the museum battle of the smithsonian</td>\n",
       "    </tr>\n",
       "    <tr>\n",
       "      <th>2</th>\n",
       "      <td>87242834.0</td>\n",
       "      <td>Fantasy</td>\n",
       "      <td>miss peregrine's home for peculiar children</td>\n",
       "      <td>28871140.0</td>\n",
       "      <td>33.1</td>\n",
       "      <td>PG-13</td>\n",
       "      <td>2016-09-30</td>\n",
       "      <td>127</td>\n",
       "      <td>110000000</td>\n",
       "      <td>87242834</td>\n",
       "      <td>2016-09-30</td>\n",
       "      <td>296642834</td>\n",
       "      <td>miss peregrine's home for peculiar children</td>\n",
       "    </tr>\n",
       "    <tr>\n",
       "      <th>3</th>\n",
       "      <td>38702310.0</td>\n",
       "      <td>Romantic Comedy</td>\n",
       "      <td>about last night...</td>\n",
       "      <td>3152469.0</td>\n",
       "      <td>8.1</td>\n",
       "      <td>R</td>\n",
       "      <td>1986-07-04</td>\n",
       "      <td>113</td>\n",
       "      <td>13000000</td>\n",
       "      <td>48637684</td>\n",
       "      <td>2014-02-14</td>\n",
       "      <td>50445860</td>\n",
       "      <td>about last night...</td>\n",
       "    </tr>\n",
       "    <tr>\n",
       "      <th>4</th>\n",
       "      <td>23334953.0</td>\n",
       "      <td>Sports Drama</td>\n",
       "      <td>raging bull</td>\n",
       "      <td>128590.0</td>\n",
       "      <td>0.6</td>\n",
       "      <td>R</td>\n",
       "      <td>1980-11-14</td>\n",
       "      <td>129</td>\n",
       "      <td>18000000</td>\n",
       "      <td>23380203</td>\n",
       "      <td>1980-11-14</td>\n",
       "      <td>23380203</td>\n",
       "      <td>raging bull</td>\n",
       "    </tr>\n",
       "  </tbody>\n",
       "</table>\n",
       "</div>"
      ],
      "text/plain": [
       "   domestic_gross_x             genre  \\\n",
       "0        65187603.0         Adventure   \n",
       "1       177243721.0  Family Adventure   \n",
       "2        87242834.0           Fantasy   \n",
       "3        38702310.0   Romantic Comedy   \n",
       "4        23334953.0      Sports Drama   \n",
       "\n",
       "                                     movie_title  opening_weekend_gross  \\\n",
       "0                          jack the giant slayer             27202226.0   \n",
       "1  night at the museum battle of the smithsonian             54173286.0   \n",
       "2    miss peregrine's home for peculiar children             28871140.0   \n",
       "3                            about last night...              3152469.0   \n",
       "4                                    raging bull               128590.0   \n",
       "\n",
       "   opening_weekend_percentage rating release_date_x  runtime     budget  \\\n",
       "0                        41.7  PG-13     2013-03-01      114     100000   \n",
       "1                        30.6     PG     2009-05-22      105  150000000   \n",
       "2                        33.1  PG-13     2016-09-30      127  110000000   \n",
       "3                         8.1      R     1986-07-04      113   13000000   \n",
       "4                         0.6      R     1980-11-14      129   18000000   \n",
       "\n",
       "   domestic_gross_y release_date_y  worldwide_gross  \\\n",
       "0          10178331     2006-09-29         10243159   \n",
       "1         177243721     2009-05-22        402231063   \n",
       "2          87242834     2016-09-30        296642834   \n",
       "3          48637684     2014-02-14         50445860   \n",
       "4          23380203     1980-11-14         23380203   \n",
       "\n",
       "                                    likely_match  \n",
       "0                          jack the giant slayer  \n",
       "1  night at the museum battle of the smithsonian  \n",
       "2    miss peregrine's home for peculiar children  \n",
       "3                            about last night...  \n",
       "4                                    raging bull  "
      ]
     },
     "execution_count": 152,
     "metadata": {},
     "output_type": "execute_result"
    }
   ],
   "source": [
    "cinedf.head()"
   ]
  },
  {
   "cell_type": "code",
   "execution_count": 155,
   "metadata": {},
   "outputs": [],
   "source": [
    "with open('cinedf.pkl','wb') as picklefile:\n",
    "    pickle.dump(cinedf,picklefile)"
   ]
  },
  {
   "cell_type": "code",
   "execution_count": 156,
   "metadata": {},
   "outputs": [],
   "source": [
    "import seaborn as sns"
   ]
  },
  {
   "cell_type": "code",
   "execution_count": 159,
   "metadata": {},
   "outputs": [],
   "source": [
    "cinedf.drop(['domestic_gross_y','release_date_y','likely_match'], axis=1,inplace=True)"
   ]
  },
  {
   "cell_type": "code",
   "execution_count": 161,
   "metadata": {},
   "outputs": [],
   "source": [
    "cinedf.columns = ['domestic_gross', 'genre', 'movie_title','opening_weekend_gross','opening_weekend_percentage','rating','release_date','runtime','budget','worldwide_gross']"
   ]
  },
  {
   "cell_type": "code",
   "execution_count": null,
   "metadata": {},
   "outputs": [],
   "source": []
  },
  {
   "cell_type": "code",
   "execution_count": null,
   "metadata": {},
   "outputs": [],
   "source": [
    "dummy = pd.get_dummies(cinedf['rating'])\n"
   ]
  },
  {
   "cell_type": "code",
   "execution_count": null,
   "metadata": {},
   "outputs": [],
   "source": []
  },
  {
   "cell_type": "code",
   "execution_count": null,
   "metadata": {},
   "outputs": [],
   "source": []
  },
  {
   "cell_type": "code",
   "execution_count": null,
   "metadata": {},
   "outputs": [],
   "source": []
  },
  {
   "cell_type": "code",
   "execution_count": null,
   "metadata": {},
   "outputs": [],
   "source": []
  },
  {
   "cell_type": "code",
   "execution_count": null,
   "metadata": {},
   "outputs": [],
   "source": []
  },
  {
   "cell_type": "code",
   "execution_count": null,
   "metadata": {},
   "outputs": [],
   "source": []
  },
  {
   "cell_type": "code",
   "execution_count": null,
   "metadata": {},
   "outputs": [],
   "source": []
  },
  {
   "cell_type": "code",
   "execution_count": null,
   "metadata": {},
   "outputs": [],
   "source": []
  },
  {
   "cell_type": "code",
   "execution_count": 164,
   "metadata": {},
   "outputs": [],
   "source": [
    "with open('truffaut.pkl','wb') as picklefile:\n",
    "    pickle.dump(cinedf,picklefile)"
   ]
  },
  {
   "cell_type": "code",
   "execution_count": null,
   "metadata": {},
   "outputs": [],
   "source": []
  }
 ],
 "metadata": {
  "kernelspec": {
   "display_name": "Python 3",
   "language": "python",
   "name": "python3"
  },
  "language_info": {
   "codemirror_mode": {
    "name": "ipython",
    "version": 3
   },
   "file_extension": ".py",
   "mimetype": "text/x-python",
   "name": "python",
   "nbconvert_exporter": "python",
   "pygments_lexer": "ipython3",
   "version": "3.6.6"
  }
 },
 "nbformat": 4,
 "nbformat_minor": 2
}
