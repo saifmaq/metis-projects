{
 "cells": [
  {
   "cell_type": "code",
   "execution_count": 9,
   "metadata": {},
   "outputs": [],
   "source": [
    "# importing clean and customized data\n",
    "import pickle\n",
    "df = pickle.load(open('data_clean.pkl','rb'))"
   ]
  },
  {
   "cell_type": "code",
   "execution_count": 10,
   "metadata": {},
   "outputs": [],
   "source": [
    "import pickle\n",
    "import matplotlib.pyplot as plt\n",
    "import pandas as pd \n",
    "import seaborn as sns\n",
    "import numpy as np \n",
    "from sklearn.linear_model import LinearRegression, Lasso, LassoCV, Ridge, RidgeCV\n",
    "from sklearn.model_selection import train_test_split\n",
    "from sklearn.preprocessing import PolynomialFeatures, StandardScaler\n",
    "import statsmodels.api as sm\n",
    "import statsmodels.formula.api as smf\n",
    "import matplotlib.pyplot as plt\n",
    "sns.set()"
   ]
  },
  {
   "cell_type": "code",
   "execution_count": 11,
   "metadata": {},
   "outputs": [],
   "source": [
    "# adding categorical variables for genre\n",
    "dummy = pd.get_dummies(df['genre'])\n",
    "df = pd.concat([df.drop('genre',axis=1),dummy],axis=1)"
   ]
  },
  {
   "cell_type": "code",
   "execution_count": 12,
   "metadata": {},
   "outputs": [
    {
     "data": {
      "text/html": [
       "<div>\n",
       "<style scoped>\n",
       "    .dataframe tbody tr th:only-of-type {\n",
       "        vertical-align: middle;\n",
       "    }\n",
       "\n",
       "    .dataframe tbody tr th {\n",
       "        vertical-align: top;\n",
       "    }\n",
       "\n",
       "    .dataframe thead th {\n",
       "        text-align: right;\n",
       "    }\n",
       "</style>\n",
       "<table border=\"1\" class=\"dataframe\">\n",
       "  <thead>\n",
       "    <tr style=\"text-align: right;\">\n",
       "      <th></th>\n",
       "      <th>domestic_gross</th>\n",
       "      <th>movie_title</th>\n",
       "      <th>opening_weekend_gross</th>\n",
       "      <th>opening_weekend_percentage</th>\n",
       "      <th>release_date</th>\n",
       "      <th>runtime</th>\n",
       "      <th>budget</th>\n",
       "      <th>worldwide_gross</th>\n",
       "      <th>G</th>\n",
       "      <th>NC-17</th>\n",
       "      <th>...</th>\n",
       "      <th>Sports Action</th>\n",
       "      <th>Sports Comedy</th>\n",
       "      <th>Sports Drama</th>\n",
       "      <th>Thriller</th>\n",
       "      <th>Unknown</th>\n",
       "      <th>War</th>\n",
       "      <th>War Drama</th>\n",
       "      <th>War Romance</th>\n",
       "      <th>Western</th>\n",
       "      <th>Western Comedy</th>\n",
       "    </tr>\n",
       "  </thead>\n",
       "  <tbody>\n",
       "    <tr>\n",
       "      <th>0</th>\n",
       "      <td>65187603</td>\n",
       "      <td>jack the giant slayer</td>\n",
       "      <td>27202226</td>\n",
       "      <td>41.7</td>\n",
       "      <td>2013-03-01</td>\n",
       "      <td>114</td>\n",
       "      <td>100000</td>\n",
       "      <td>10243159</td>\n",
       "      <td>0</td>\n",
       "      <td>0</td>\n",
       "      <td>...</td>\n",
       "      <td>0</td>\n",
       "      <td>0</td>\n",
       "      <td>0</td>\n",
       "      <td>0</td>\n",
       "      <td>0</td>\n",
       "      <td>0</td>\n",
       "      <td>0</td>\n",
       "      <td>0</td>\n",
       "      <td>0</td>\n",
       "      <td>0</td>\n",
       "    </tr>\n",
       "    <tr>\n",
       "      <th>2</th>\n",
       "      <td>177243721</td>\n",
       "      <td>night at the museum battle of the smithsonian</td>\n",
       "      <td>54173286</td>\n",
       "      <td>30.6</td>\n",
       "      <td>2009-05-22</td>\n",
       "      <td>105</td>\n",
       "      <td>150000000</td>\n",
       "      <td>402231063</td>\n",
       "      <td>0</td>\n",
       "      <td>0</td>\n",
       "      <td>...</td>\n",
       "      <td>0</td>\n",
       "      <td>0</td>\n",
       "      <td>0</td>\n",
       "      <td>0</td>\n",
       "      <td>0</td>\n",
       "      <td>0</td>\n",
       "      <td>0</td>\n",
       "      <td>0</td>\n",
       "      <td>0</td>\n",
       "      <td>0</td>\n",
       "    </tr>\n",
       "    <tr>\n",
       "      <th>4</th>\n",
       "      <td>87242834</td>\n",
       "      <td>miss peregrine's home for peculiar children</td>\n",
       "      <td>28871140</td>\n",
       "      <td>33.1</td>\n",
       "      <td>2016-09-30</td>\n",
       "      <td>127</td>\n",
       "      <td>110000000</td>\n",
       "      <td>296642834</td>\n",
       "      <td>0</td>\n",
       "      <td>0</td>\n",
       "      <td>...</td>\n",
       "      <td>0</td>\n",
       "      <td>0</td>\n",
       "      <td>0</td>\n",
       "      <td>0</td>\n",
       "      <td>0</td>\n",
       "      <td>0</td>\n",
       "      <td>0</td>\n",
       "      <td>0</td>\n",
       "      <td>0</td>\n",
       "      <td>0</td>\n",
       "    </tr>\n",
       "    <tr>\n",
       "      <th>5</th>\n",
       "      <td>38702310</td>\n",
       "      <td>about last night...</td>\n",
       "      <td>3152469</td>\n",
       "      <td>8.1</td>\n",
       "      <td>1986-07-04</td>\n",
       "      <td>113</td>\n",
       "      <td>13000000</td>\n",
       "      <td>50445860</td>\n",
       "      <td>0</td>\n",
       "      <td>0</td>\n",
       "      <td>...</td>\n",
       "      <td>0</td>\n",
       "      <td>0</td>\n",
       "      <td>0</td>\n",
       "      <td>0</td>\n",
       "      <td>0</td>\n",
       "      <td>0</td>\n",
       "      <td>0</td>\n",
       "      <td>0</td>\n",
       "      <td>0</td>\n",
       "      <td>0</td>\n",
       "    </tr>\n",
       "    <tr>\n",
       "      <th>6</th>\n",
       "      <td>23334953</td>\n",
       "      <td>raging bull</td>\n",
       "      <td>128590</td>\n",
       "      <td>0.6</td>\n",
       "      <td>1980-11-14</td>\n",
       "      <td>129</td>\n",
       "      <td>18000000</td>\n",
       "      <td>23380203</td>\n",
       "      <td>0</td>\n",
       "      <td>0</td>\n",
       "      <td>...</td>\n",
       "      <td>0</td>\n",
       "      <td>0</td>\n",
       "      <td>1</td>\n",
       "      <td>0</td>\n",
       "      <td>0</td>\n",
       "      <td>0</td>\n",
       "      <td>0</td>\n",
       "      <td>0</td>\n",
       "      <td>0</td>\n",
       "      <td>0</td>\n",
       "    </tr>\n",
       "  </tbody>\n",
       "</table>\n",
       "<p>5 rows × 78 columns</p>\n",
       "</div>"
      ],
      "text/plain": [
       "  domestic_gross                                    movie_title  \\\n",
       "0       65187603                          jack the giant slayer   \n",
       "2      177243721  night at the museum battle of the smithsonian   \n",
       "4       87242834    miss peregrine's home for peculiar children   \n",
       "5       38702310                            about last night...   \n",
       "6       23334953                                    raging bull   \n",
       "\n",
       "  opening_weekend_gross opening_weekend_percentage release_date  runtime  \\\n",
       "0              27202226                       41.7   2013-03-01      114   \n",
       "2              54173286                       30.6   2009-05-22      105   \n",
       "4              28871140                       33.1   2016-09-30      127   \n",
       "5               3152469                        8.1   1986-07-04      113   \n",
       "6                128590                        0.6   1980-11-14      129   \n",
       "\n",
       "      budget  worldwide_gross  G  NC-17       ...        Sports Action  \\\n",
       "0     100000         10243159  0      0       ...                    0   \n",
       "2  150000000        402231063  0      0       ...                    0   \n",
       "4  110000000        296642834  0      0       ...                    0   \n",
       "5   13000000         50445860  0      0       ...                    0   \n",
       "6   18000000         23380203  0      0       ...                    0   \n",
       "\n",
       "   Sports Comedy  Sports Drama  Thriller  Unknown  War  War Drama  \\\n",
       "0              0             0         0        0    0          0   \n",
       "2              0             0         0        0    0          0   \n",
       "4              0             0         0        0    0          0   \n",
       "5              0             0         0        0    0          0   \n",
       "6              0             1         0        0    0          0   \n",
       "\n",
       "   War Romance  Western  Western Comedy  \n",
       "0            0        0               0  \n",
       "2            0        0               0  \n",
       "4            0        0               0  \n",
       "5            0        0               0  \n",
       "6            0        0               0  \n",
       "\n",
       "[5 rows x 78 columns]"
      ]
     },
     "execution_count": 12,
     "metadata": {},
     "output_type": "execute_result"
    }
   ],
   "source": [
    "df.head()"
   ]
  },
  {
   "cell_type": "code",
   "execution_count": 17,
   "metadata": {},
   "outputs": [],
   "source": [
    "integerify = lambda x: int(x)\n",
    "df['opening_weekend_gross'] = df['opening_weekend_gross'].apply(integerify)\n",
    "df['domestic_gross'] = df['domestic_gross'].apply(integerify)"
   ]
  },
  {
   "cell_type": "code",
   "execution_count": 20,
   "metadata": {},
   "outputs": [],
   "source": [
    "# making sure target variable is clean and accurate for our dataset \n",
    "df['opening_weekend_percentage'] = (df['opening_weekend_gross']/df['domestic_gross'])*100\n",
    "df['opening_weekend_gross_log'] = np.log10(df['opening_weekend_gross'])"
   ]
  },
  {
   "cell_type": "code",
   "execution_count": 23,
   "metadata": {},
   "outputs": [
    {
     "data": {
      "text/plain": [
       "Index(['domestic_gross', 'movie_title', 'opening_weekend_gross',\n",
       "       'opening_weekend_percentage', 'release_date', 'runtime', 'budget',\n",
       "       'worldwide_gross', 'G', 'NC-17', 'PG', 'PG-13', 'R', 'Unrated',\n",
       "       'Action', 'Action / Adventure', 'Action / Crime', 'Action Comedy',\n",
       "       'Action Drama', 'Action Fantasy', 'Action Horror', 'Action Thriller',\n",
       "       'Adventure', 'Adventure Comedy', 'Animation', 'Comedy',\n",
       "       'Comedy / Drama', 'Comedy Thriller', 'Concert', 'Crime', 'Crime Comedy',\n",
       "       'Crime Drama', 'Crime Thriller', 'Documentary', 'Drama',\n",
       "       'Drama / Thriller', 'Family', 'Family Adventure', 'Family Comedy',\n",
       "       'Fantasy', 'Fantasy Comedy', 'Fantasy Drama', 'Foreign',\n",
       "       'Foreign / Action', 'Historical Drama', 'Historical Epic', 'Horror',\n",
       "       'Horror Comedy', 'Horror Thriller', 'IMAX', 'Music Drama', 'Musical',\n",
       "       'Period Action', 'Period Adventure', 'Period Comedy', 'Period Drama',\n",
       "       'Period Horror', 'Romance', 'Romantic Adventure', 'Romantic Comedy',\n",
       "       'Romantic Thriller', 'Sci-Fi', 'Sci-Fi Action', 'Sci-Fi Adventure',\n",
       "       'Sci-Fi Comedy', 'Sci-Fi Fantasy', 'Sci-Fi Horror', 'Sci-Fi Thriller',\n",
       "       'Sports Action', 'Sports Comedy', 'Sports Drama', 'Thriller', 'Unknown',\n",
       "       'War', 'War Drama', 'War Romance', 'Western', 'Western Comedy',\n",
       "       'opening_weekend_gross_log'],\n",
       "      dtype='object')"
      ]
     },
     "execution_count": 23,
     "metadata": {},
     "output_type": "execute_result"
    }
   ],
   "source": [
    "df.columns"
   ]
  },
  {
   "cell_type": "code",
   "execution_count": 22,
   "metadata": {},
   "outputs": [
    {
     "name": "stderr",
     "output_type": "stream",
     "text": [
      "/Users/smaq/anaconda3/lib/python3.6/site-packages/pandas/core/indexing.py:1472: FutureWarning: \n",
      "Passing list-likes to .loc or [] with any missing label will raise\n",
      "KeyError in the future, you can use .reindex() as an alternative.\n",
      "\n",
      "See the documentation here:\n",
      "https://pandas.pydata.org/pandas-docs/stable/indexing.html#deprecate-loc-reindex-listlike\n",
      "  return self._getitem_tuple(key)\n"
     ]
    }
   ],
   "source": [
    "features = ['opening_weekend_gross', 'release_date', 'runtime', 'budget',\n",
    "        'G', 'NC-17', 'PG', 'PG-13', 'R', 'Unrated',\n",
    "       'Action', 'Action / Adventure', 'Action / Crime', 'Action Comedy',\n",
    "       'Action Drama', 'Action Fantasy', 'Action Horror', 'Action Thriller',\n",
    "       'Adventure', 'Adventure Comedy', 'Animation', 'Comedy',\n",
    "       'Comedy / Drama', 'Comedy Thriller', 'Concert', 'Crime', 'Crime Comedy',\n",
    "       'Crime Drama', 'Crime Thriller', 'Documentary', 'Drama',\n",
    "       'Drama / Thriller', 'Family', 'Family Adventure', 'Family Comedy',\n",
    "       'Fantasy', 'Fantasy Comedy', 'Fantasy Drama', 'Foreign',\n",
    "       'Foreign / Action', 'Historical Drama', 'Historical Epic', 'Horror',\n",
    "       'Horror Comedy', 'Horror Thriller', 'IMAX', 'Music Drama', 'Musical',\n",
    "       'Period Action', 'Period Adventure', 'Period Comedy', 'Period Drama',\n",
    "       'Period Horror', 'Romance', 'Romantic Adventure', 'Romantic Comedy',\n",
    "       'Romantic Thriller', 'Sci-Fi', 'Sci-Fi Action', 'Sci-Fi Adventure',\n",
    "       'Sci-Fi Comedy', 'Sci-Fi Fantasy', 'Sci-Fi Horror', 'Sci-Fi Thriller',\n",
    "       'Sports Action', 'Sports Comedy', 'Sports Drama', 'Thriller', 'Unknown',\n",
    "       'War', 'War Drama', 'War Romance', 'Western', 'Western Comedy',\n",
    "       'opening_weekend_gross_log']\n",
    "X = luther.loc[:,features]\n",
    "y = luther['opening_weekend_percentage']"
   ]
  },
  {
   "cell_type": "code",
   "execution_count": null,
   "metadata": {},
   "outputs": [],
   "source": []
  },
  {
   "cell_type": "code",
   "execution_count": null,
   "metadata": {},
   "outputs": [],
   "source": [
    "#splitting data for training, validation and testing \n",
    "X, X_test, y, y_test = train_test_split(X, y, test_size=.2, random_state=9) \n",
    "X_train, X_val, y_train, y_val = train_test_split(X, y, test_size=.25, random_state=42) "
   ]
  },
  {
   "cell_type": "code",
   "execution_count": null,
   "metadata": {},
   "outputs": [],
   "source": [
    "#baseline linear regression \n",
    "model = sm.OLS(y, sm.add_constant(X))\n",
    "results = model.fit()\n",
    "ypred = results.predict(sm.add_constant(X))"
   ]
  },
  {
   "cell_type": "code",
   "execution_count": null,
   "metadata": {},
   "outputs": [],
   "source": [
    "print(results.summary())"
   ]
  },
  {
   "cell_type": "code",
   "execution_count": null,
   "metadata": {},
   "outputs": [],
   "source": [
    "np.sqrt(np.mean((y - ypred))**2)"
   ]
  },
  {
   "cell_type": "code",
   "execution_count": null,
   "metadata": {},
   "outputs": [],
   "source": [
    "lm = LinearRegression()\n",
    "model = lm.fit(X_train,y_train)\n",
    "r2 = lm.score(X_val,y_val)\n",
    "rmse = np.sqrt(np.mean((y_val - lm.predict(X_val))**2))\n",
    "print(\"R2: \" + str(r2) + \" and RMSE: \" + str(rmse))"
   ]
  },
  {
   "cell_type": "code",
   "execution_count": null,
   "metadata": {},
   "outputs": [],
   "source": [
    "from sklearn.ensemble import RandomForestRegressor, GradientBoostingRegressor\n",
    "\n",
    "\n",
    "rf = RandomForestRegressor(n_estimators=1800)\n",
    "rf.fit(X, y)\n",
    "r2 = rf.score(, y_val)\n",
    "RMSE = (rf.predict(X_val),y_val)\n",
    "print(r2)\n",
    "print(rmse)"
   ]
  },
  {
   "cell_type": "code",
   "execution_count": null,
   "metadata": {},
   "outputs": [],
   "source": [
    "ridge = RidgeCV(cv=5)\n",
    "ridge = ridge.fit(X,y)\n",
    "print(ridge.score(X,y))\n",
    "print(np.sqrt(np.mean((y - ridge.predict(X))**2)))\n",
    "\n",
    "print(ridge.score(X_test,y_test))\n",
    "print(np.sqrt(np.mean((y_test - ridge.predict(X_test))**2)))\n",
    "\n"
   ]
  },
  {
   "cell_type": "code",
   "execution_count": null,
   "metadata": {},
   "outputs": [],
   "source": []
  },
  {
   "cell_type": "code",
   "execution_count": null,
   "metadata": {},
   "outputs": [],
   "source": [
    "poly = PolynomialFeatures(degree=2)\n",
    "\n",
    "X_train_poly = poly.fit_transform(X_train)\n",
    "X_val_poly = poly.transform(X_val)\n",
    "X_test_poly = poly.transform(X_test)\n",
    "lm_poly = LinearRegression()\n",
    "lm_poly.fit(X_train_poly,y_train)\n",
    "print(lm_poly.score(X_train_poly,y_train))\n",
    "print(lm_poly.score(X_val_poly,y_val))\n",
    "print(lm_poly.score(X_test_poly,y_test))\n"
   ]
  },
  {
   "cell_type": "code",
   "execution_count": null,
   "metadata": {},
   "outputs": [],
   "source": []
  },
  {
   "cell_type": "code",
   "execution_count": null,
   "metadata": {},
   "outputs": [],
   "source": [
    "gbm = GradientBoostingRegressor(n_estimators=1600, max_depth=3, learning_rate=.01)\n",
    "gbm.fit(X_train, y_train)\n",
    "gbm.score(X_test, y_test)\n"
   ]
  },
  {
   "cell_type": "code",
   "execution_count": null,
   "metadata": {},
   "outputs": [],
   "source": []
  },
  {
   "cell_type": "code",
   "execution_count": null,
   "metadata": {},
   "outputs": [],
   "source": []
  },
  {
   "cell_type": "code",
   "execution_count": null,
   "metadata": {},
   "outputs": [],
   "source": [
    "def m_diagnostic_plot(x, y):\n",
    "    plt.figure(figsize=(10,2.5))\n",
    "    rgr = LinearRegression()\n",
    "    rgr.fit(x,y)\n",
    "    pred = rgr.predict(x)\n",
    "\n",
    "    res = y - pred\n",
    "    plt.scatter(pred, res)\n",
    "    plt.title(\"Residual plot\")\n",
    "    plt.xlabel(\"prediction\")\n",
    "    plt.ylabel(\"residuals\")\n",
    "    \n",
    "    \n",
    "def poly_diagnostic_plot(x, y):\n",
    "    plt.figure(figsize=(10,2.5))\n",
    "    PolynomialFeatures(degree=2)\n",
    "    X_poly = poly.fit_transform(X)\n",
    "    lm_poly = LinearRegression()\n",
    "    lm_poly.fit(X_poly,y)\n",
    "    pred = lm_poly.predict(X_poly)\n",
    "\n",
    "    res = y - pred\n",
    "    plt.scatter(pred, res, color='m')\n",
    "    plt.title(\"Residual plot\")\n",
    "    plt.xlabel(\"prediction\")\n",
    "    plt.ylabel(\"residuals\")\n"
   ]
  },
  {
   "cell_type": "code",
   "execution_count": null,
   "metadata": {},
   "outputs": [],
   "source": [
    "plt.figure(figsize=(6.5,5))\n",
    "plt.scatter(X_test[:,0],y_test,color='darkgreen',label=\"Data\", alpha=.1)\n",
    "plt.plot(X_test.[:,0],lm.predict(X_test),color=\"red\",label=\"Predicted Regression Line\")\n",
    "\n",
    "plt.xlabel(\"Space (sqft)\", fontsize=15)\n",
    "plt.ylabel(\"Price ($)\", fontsize=15)\n",
    "plt.xticks(fontsize=13)\n",
    "plt.yticks(fontsize=13)\n",
    "plt.legend()\n",
    "\n",
    "plt.gca().spines['right'].set_visible(False)\n",
    "plt.gca().spines['top'].set_visible(False)"
   ]
  },
  {
   "cell_type": "code",
   "execution_count": null,
   "metadata": {},
   "outputs": [],
   "source": [
    "plt.figure(figsize=(10,2.5))\n",
    "rgr = LinearRegression()\n",
    "rgr.fit(X_train,y_train)\n",
    "pred = rgr.predict(X_train)\n",
    "\n",
    "res = y_train - pred\n",
    "plt.scatter(pred, res)\n",
    "plt.title(\"Scorpion Plot\")\n",
    "plt.xlabel(\"prediction\")\n",
    "plt.ylabel(\"residuals\")"
   ]
  },
  {
   "cell_type": "code",
   "execution_count": null,
   "metadata": {},
   "outputs": [],
   "source": [
    "plt.figure(figsize=(10,2.5))\n",
    "ridge = RidgeCV(cv=5)\n",
    "ridge.fit(X_train,y_train)\n",
    "pred = rgr.predict(X_train)\n",
    "\n",
    "res = y_train - pred\n",
    "plt.scatter(pred, res,color='green')\n",
    "plt.plot()\n",
    "plt.title(\"Residual Plot\")\n",
    "plt.xlabel(\"prediction\")\n",
    "plt.ylabel(\"residuals\")"
   ]
  },
  {
   "cell_type": "code",
   "execution_count": null,
   "metadata": {},
   "outputs": [],
   "source": []
  },
  {
   "cell_type": "code",
   "execution_count": null,
   "metadata": {},
   "outputs": [],
   "source": []
  },
  {
   "cell_type": "code",
   "execution_count": null,
   "metadata": {},
   "outputs": [],
   "source": []
  }
 ],
 "metadata": {
  "kernelspec": {
   "display_name": "Python 3",
   "language": "python",
   "name": "python3"
  },
  "language_info": {
   "codemirror_mode": {
    "name": "ipython",
    "version": 3
   },
   "file_extension": ".py",
   "mimetype": "text/x-python",
   "name": "python",
   "nbconvert_exporter": "python",
   "pygments_lexer": "ipython3",
   "version": "3.6.6"
  }
 },
 "nbformat": 4,
 "nbformat_minor": 2
}
